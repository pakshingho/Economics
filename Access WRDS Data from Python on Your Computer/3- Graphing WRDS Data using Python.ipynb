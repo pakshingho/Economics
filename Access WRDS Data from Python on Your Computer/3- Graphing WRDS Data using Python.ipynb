{
 "cells": [
  {
   "cell_type": "markdown",
   "metadata": {},
   "source": [
    "# Graphing WRDS Data using Python"
   ]
  },
  {
   "cell_type": "markdown",
   "metadata": {},
   "source": [
    "<p class=\"lead\">Learn how to create graphs using Python</p>\n",
    "This short tutorial follows closely from https://wrds-www.wharton.upenn.edu/pages/support/programming-wrds/programming-python/"
   ]
  },
  {
   "cell_type": "markdown",
   "metadata": {},
   "source": [
    "## 1. Introduction "
   ]
  },
  {
   "cell_type": "markdown",
   "metadata": {},
   "source": [
    "<div class=\"rich-text\">\n",
    "    <p>Output from <strong>wrds</strong> module queries are always Pandas dataframes, which are relatively easy to plot using common libraries like <strong>matplotlib</strong>.</p>\n",
    "    <ul><li>If you are accessing WRDS data from your computer, you will be installing these libraries and managing them yourself.</li>\n",
    "        <li>If you are accessing WRDS data from the WRDS Cloud, we have installed all the popular graphing libraries already for you, or if you need a specific version of one or a newer library not already installed, you can follow these instructions: <a href=\"http://wrds-www.wharton.upenn.edu/pages/support/programming-wrds/programming-python/installing-your-own-python-packages/\">Installing Custom Python Packages</a></li>\n",
    "    </ul>\n",
    "    <p>If you are connecting to WRDS from your computer, skip to the <em>Creating a Graph using Python</em> section below. Otherwise, read on to learn how to connect to the WRDS Cloud with graphical capability via the X Windows system (called X11 on OSX) . X Windows allows the data processing to happen on the WRDS Cloud, while the graph displays on your computer.</p>\n",
    "</div>"
   ]
  },
  {
   "cell_type": "markdown",
   "metadata": {},
   "source": [
    "## 2. Using X Window on Windows 8 and 10 "
   ]
  },
  {
   "cell_type": "markdown",
   "metadata": {},
   "source": [
    "<div class=\"rich-text\">\n",
    "    <p>For X Window support, Windows 8 and 10 users will need to install PuTTY and XMing software first. Once both are installed, you can connect to the WRDS Cloud with graphics capabilities.</p><p></p><p><strong>To enable X Window on Windows</strong></p>\n",
    "    <ol><li>Install <a href=\"https://www.chiark.greenend.org.uk/~sgtatham/putty/latest.html\">PuTTY</a> and <a href=\"https://sourceforge.net/projects/xming/\">XMing.</a></li>\n",
    "        <li>Start XMing.</li><li>Start PuTTY and enable X11 Forwarding by navigating to <strong>Connection &gt; SSH &gt; X11 &gt; Enable X11 Forwarding</strong></li>\n",
    "        <li>In the <strong>Session</strong> section, enter the <strong>Host Name</strong> as: <strong>wrds-cloud.wharton.upenn.edu</strong></li>\n",
    "        <li>Click <strong>Open</strong> to initiate the connection, then authenticate as normal</li></ol>\n",
    "</div>"
   ]
  },
  {
   "cell_type": "markdown",
   "metadata": {},
   "source": [
    "## 3. Using X Window on macOS "
   ]
  },
  {
   "cell_type": "markdown",
   "metadata": {},
   "source": [
    "<div class=\"rich-text\">\n",
    "    <p>For X Window support, macOS users will need to use <strong>Terminal</strong> and install XQuartz software. <strong>Terminal</strong> is included with macOS. Once you've installed XQuartz (you may need to restart your computer), perform the following steps to be connected to the WRDS Cloud with graphics capabilities:</p>\n",
    "    <ol><li>Install <a href=\"https://www.xquartz.org/\">XQuartz</a>.</li>\n",
    "        <li>Start Terminal from <strong>/Applications/Utilities/Terminal</strong></li>\n",
    "        <li>Using SSH, connect to the WRDS Cloud using the command: <strong>ssh -X wrds-cloud.wharton.upenn.edu</strong></li>\n",
    "        <li>XQuartz will automatically start</li>\n",
    "        <li>Authenticate in <strong>Terminal</strong> as normal</li></ol>\n",
    "    <p><strong>NOTE:</strong> The <strong>-X</strong> flag in step 2 is uppercase.</p>\n",
    "</div>"
   ]
  },
  {
   "cell_type": "markdown",
   "metadata": {},
   "source": [
    "## 4. Creating a Graph using Python "
   ]
  },
  {
   "cell_type": "markdown",
   "metadata": {},
   "source": [
    "<div class=\"rich-text\">\n",
    "    <p>Using X Windows, graphical Python packages can be used within an interactive Python session in the WRDS Cloud.</p>\n",
    "    <p>Use the following procedure to create an example graph of the performance of the Dow Jones Industrial Index over time:</p>\n",
    "    <p><strong>NOTE:</strong> This procedure would be the same if you wish to run a Python session locally on your computer and use Jupyter or Spyder.</p>\n",
    "    <p><strong>To create a graph of the Dow Jones Index using Python</strong></p>\n",
    "    <ol><li>Start an interactive job in the WRDS Cloud using <strong>qrsh.</strong></li>\n",
    "        <li>After being assigned to a compute node, start an interactive Python 3 session using <strong>ipython3.</strong></li>\n",
    "        <li>Enter the code shown below to import the <strong>wrds</strong> module, import the <strong>pyplot</strong> module for plotting, connect to WRDS, submit the query (<strong>db.raw_sql</strong>) and plot the graph.</li></ol>\n",
    "</div>"
   ]
  },
  {
   "cell_type": "code",
   "execution_count": 4,
   "metadata": {},
   "outputs": [
    {
     "name": "stdout",
     "output_type": "stream",
     "text": [
      "Loading library list...\n",
      "Done\n"
     ]
    },
    {
     "data": {
      "image/png": "[encoded data removed]",
      "text/plain": [
       "<matplotlib.figure.Figure at 0x10729d3c8>"
      ]
     },
     "metadata": {},
     "output_type": "display_data"
    }
   ],
   "source": [
    "import wrds\n",
    "import matplotlib.pyplot as plt\n",
    "db = wrds.Connection()\n",
    "data = db.raw_sql(\"select date,dji from djones.djdaily\", date_cols=['date'], index_col=['date'])\n",
    "plt.plot(data)\n",
    "plt.xlabel('date')\n",
    "plt.ylabel('dji')\n",
    "plt.show()"
   ]
  },
  {
   "cell_type": "markdown",
   "metadata": {},
   "source": [
    "<div class=\"alert alert-block alert-info\">\n",
    "<b>NOTE:</b> Alternatively, you could submit the query (line 4 above) using the get_table() command as follows\n",
    "</div>"
   ]
  },
  {
   "cell_type": "code",
   "execution_count": null,
   "metadata": {},
   "outputs": [],
   "source": [
    "data = db.get_table(\"djones\", \"djdaily\", columns=['date','dji'], date_cols=['date'], index_col=['date'])"
   ]
  },
  {
   "cell_type": "markdown",
   "metadata": {},
   "source": [
    "Python will draw your graph through the X Windows system, plotted by date against the Dow Jones Index, and label both axes."
   ]
  },
  {
   "cell_type": "markdown",
   "metadata": {},
   "source": [
    "## 5. Saving Your Graph"
   ]
  },
  {
   "cell_type": "markdown",
   "metadata": {},
   "source": [
    "<div class=\"rich-text\">\n",
    "    <p>To save the graph to a file, use the command <strong>plt.savefig('</strong><strong><em>my_graph.png</em></strong><strong>'),</strong> where '<em>my_graph.png'</em> is the filename enclosed in single quotes.</p>\n",
    "    <ul><li>If you are on the WRDS Cloud, this will save the graph to to your current working directory on the WRDS Cloud, which is likely in your home directory.</li>\n",
    "        <li>If you are instead connect to WRDS data from your computer, you'll be saving this file to your local hard drive.</li></ul>\n",
    "</div>"
   ]
  }
 ],
 "metadata": {
  "kernelspec": {
   "display_name": "Python 3",
   "language": "python",
   "name": "python3"
  },
  "language_info": {
   "codemirror_mode": {
    "name": "ipython",
    "version": 3
   },
   "file_extension": ".py",
   "mimetype": "text/x-python",
   "name": "python",
   "nbconvert_exporter": "python",
   "pygments_lexer": "ipython3",
   "version": "3.6.8"
  }
 },
 "nbformat": 4,
 "nbformat_minor": 2
}
