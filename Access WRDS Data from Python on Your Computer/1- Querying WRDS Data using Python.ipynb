{
 "cells": [
  {
   "cell_type": "markdown",
   "metadata": {},
   "source": [
    "# 1. Introduction to Python at WRDS"
   ]
  },
  {
   "cell_type": "markdown",
   "metadata": {},
   "source": [
    "WRDS provides an interface for Python access directly, allowing querying of WRDS data within your Python program. \n",
    "\n",
    "This short tutorial follows closely from https://wrds-www.wharton.upenn.edu/pages/support/programming-wrds/programming-python/"
   ]
  },
  {
   "cell_type": "markdown",
   "metadata": {},
   "source": [
    "## 1.1 Installing WRDS Python Module"
   ]
  },
  {
   "cell_type": "markdown",
   "metadata": {},
   "source": [
    "Assume you've installed Python, the next step is to install the Python wrds module:\n",
    "- For Mac OSX: open Terminal.\n",
    "- For Windows: launch the Anaconda Prompt app.\n",
    "Run the following command:"
   ]
  },
  {
   "cell_type": "markdown",
   "metadata": {},
   "source": [
    "<div class=\"alert alert-block alert-success\">\n",
    "pip install wrds\n",
    "</div>"
   ]
  },
  {
   "cell_type": "markdown",
   "metadata": {},
   "source": [
    "This command will download and install the <b>wrds</b> Python module.\n",
    "The wrds module is open source. Check out <a href=\"https://github.com/wharton/wrds\">GitHub Repository</a>."
   ]
  },
  {
   "cell_type": "markdown",
   "metadata": {},
   "source": [
    "## 1.1 The pgpass File"
   ]
  },
  {
   "cell_type": "markdown",
   "metadata": {},
   "source": [
    "The pgpass file includes your WRDS username and password so that you do not need to enter them each time you wish to connect to WRDS within Python.\n",
    "\n",
    "First, start python. Then enter:"
   ]
  },
  {
   "cell_type": "code",
   "execution_count": null,
   "metadata": {},
   "outputs": [],
   "source": [
    "import wrds\n",
    "db = wrds.Connection(wrds_username='your_username')\n",
    "db.create_pgpass_file()"
   ]
  },
  {
   "cell_type": "markdown",
   "metadata": {},
   "source": [
    "Where <code>wrds_username</code> is your own WRDS username (the same as your login to the WRDS website). You will be prompted once for your WRDS username and password on your first login, at the <code>Connection()</code> step, but then, after running <code>create_pgpass_file()</code> once, you should be able to connect from then on without needing to do so. Test this by disconnecting and reconnecting, using the following:"
   ]
  },
  {
   "cell_type": "code",
   "execution_count": null,
   "metadata": {},
   "outputs": [],
   "source": [
    "db.close()\n",
    "db = wrds.Connection(wrds_username='your_username')"
   ]
  },
  {
   "cell_type": "markdown",
   "metadata": {},
   "source": [
    "You should be connected directly without needing to authenticate. If your WRDS username and your local computer username (that you're running Python as) happen to be the same (in this case, both <em>your_username</em> ), you may omit the <code>wrds_username</code> argument to <code>Connection()</code>."
   ]
  },
  {
   "cell_type": "markdown",
   "metadata": {},
   "source": [
    "# 2. Querying WRDS Data using Python"
   ]
  },
  {
   "cell_type": "markdown",
   "metadata": {},
   "source": [
    "All Python programs intending to access WRDS data must include the following two lines at the beginning:"
   ]
  },
  {
   "cell_type": "code",
   "execution_count": 1,
   "metadata": {},
   "outputs": [
    {
     "name": "stdout",
     "output_type": "stream",
     "text": [
      "Loading library list...\n",
      "Done\n"
     ]
    }
   ],
   "source": [
    "import wrds\n",
    "db = wrds.Connection()"
   ]
  },
  {
   "cell_type": "markdown",
   "metadata": {},
   "source": [
    "<p>The first line imports the Python <strong>wrds</strong> module, and the second initializes a new connection to the WRDS database backend and saves that connection as <code>db</code>.</p>\n",
    "<p>This connection ideally requires that you have set up your <code>.pgpass</code> file as covered previously. Otherwise you will be prompted for your WRDS username and password each time you connect to WRDS in this fashion."
   ]
  },
  {
   "cell_type": "markdown",
   "metadata": {},
   "source": [
    "<div class=\"alert alert-block alert-warning\">\n",
    "<b>NOTE:</b> Class accounts and IPAuth / Daypass accounts are not permitted to access WRDS in this manner and will receive an error if trying this connection. You must have your own, dedicated WRDS account in order to access WRDS from PYTHON.\n",
    "</div>"
   ]
  },
  {
   "cell_type": "markdown",
   "metadata": {},
   "source": [
    "## 2.1 Methods in the wrds Module\n",
    " "
   ]
  },
  {
   "cell_type": "markdown",
   "metadata": {},
   "source": [
    "<p>The <strong>wrds</strong> module supports several methods of accessing WRDS data. The best way to learn about them is using the inline documentation available within a Python console. You can see what functions are available by entering <code>db</code> and then pressing Tab key to expand the list, as follows:</p>"
   ]
  },
  {
   "cell_type": "code",
   "execution_count": null,
   "metadata": {},
   "outputs": [],
   "source": [
    "db.close()\n",
    "db.connection()\n",
    "db.list_libraries()\n",
    "db.list_tables()\n",
    "db.describe_table()\n",
    "db.get_table()\n",
    "db.raw_sql()\n",
    "db.get_row_count()"
   ]
  },
  {
   "cell_type": "markdown",
   "metadata": {},
   "source": [
    "<div class=\"alert alert-block alert-info\">\n",
    "<b>NOTE:</b> There are a few other methods beyond the above that you'll see when looking at the contextual help list.\n",
    "</div>"
   ]
  },
  {
   "cell_type": "markdown",
   "metadata": {},
   "source": [
    "<p>For an online description of each, use the <code>help()</code> function as follows:</p>"
   ]
  },
  {
   "cell_type": "code",
   "execution_count": null,
   "metadata": {},
   "outputs": [],
   "source": [
    "help(db.get_table)\n",
    "help(db.raw_sql)"
   ]
  },
  {
   "cell_type": "markdown",
   "metadata": {},
   "source": [
    "## 2.2 Pandas and Numpy"
   ]
  },
  {
   "cell_type": "markdown",
   "metadata": {},
   "source": [
    "<p>Your data results are always returned as a Pandas DataFrame<em>.</em> Pandas is a popular Python module that, together with NumPy, forms the basis for most numeric data manipulation in Python. The pandas module provides powerful data manipulation capabilities at a granular degree of control over your output.</p>\n",
    "<p>In all examples provided in this document, the returned results variable <strong>data</strong> is a Pandas DataFrame.</p>"
   ]
  },
  {
   "cell_type": "markdown",
   "metadata": {},
   "source": [
    "## 2.3 Limiting the Number of Records Returned"
   ]
  },
  {
   "cell_type": "markdown",
   "metadata": {},
   "source": [
    "When working with large data sources, it is important to begin your research with small subsets of the data you eventually want to query. Limiting the number of returned records (also called observations) is essential while developing your code, as queries that involve large date ranges or query a large number of variables (column fields) could take a long time and generate large output files.\n",
    "\n",
    "<b>IMPORTANT</b>: This is especially important if you are running Python locally from your computer, as the returned query output data is downloaded from WRDS to your computer. Even if you have a fast computer, a slow or intermittent Internet connection could cripple your research if you don't perform your queries carefully.\n",
    "\n",
    "There are two ways of limiting the number of records (to say 5), depending on which method you use to get data:\n",
    "<ul><li><code>get_table()</code> - for this method, you would use <code>obs=5</code></li>\n",
    "    <li><code>raw_sql()</code> - for this method, you would use <code>LIMIT 5</code></li></ul>"
   ]
  },
  {
   "cell_type": "markdown",
   "metadata": {},
   "source": [
    "The next two cells show an example of each:"
   ]
  },
  {
   "cell_type": "code",
   "execution_count": 3,
   "metadata": {},
   "outputs": [
    {
     "data": {
      "text/html": [
       "<div>\n",
       "<style scoped>\n",
       "    .dataframe tbody tr th:only-of-type {\n",
       "        vertical-align: middle;\n",
       "    }\n",
       "\n",
       "    .dataframe tbody tr th {\n",
       "        vertical-align: top;\n",
       "    }\n",
       "\n",
       "    .dataframe thead th {\n",
       "        text-align: right;\n",
       "    }\n",
       "</style>\n",
       "<table border=\"1\" class=\"dataframe\">\n",
       "  <thead>\n",
       "    <tr style=\"text-align: right;\">\n",
       "      <th></th>\n",
       "      <th>date</th>\n",
       "      <th>dji</th>\n",
       "    </tr>\n",
       "  </thead>\n",
       "  <tbody>\n",
       "    <tr>\n",
       "      <th>0</th>\n",
       "      <td>1896-05-26</td>\n",
       "      <td>40.94</td>\n",
       "    </tr>\n",
       "    <tr>\n",
       "      <th>1</th>\n",
       "      <td>1896-05-27</td>\n",
       "      <td>40.58</td>\n",
       "    </tr>\n",
       "    <tr>\n",
       "      <th>2</th>\n",
       "      <td>1896-05-28</td>\n",
       "      <td>40.20</td>\n",
       "    </tr>\n",
       "    <tr>\n",
       "      <th>3</th>\n",
       "      <td>1896-05-29</td>\n",
       "      <td>40.63</td>\n",
       "    </tr>\n",
       "    <tr>\n",
       "      <th>4</th>\n",
       "      <td>1896-06-01</td>\n",
       "      <td>40.60</td>\n",
       "    </tr>\n",
       "  </tbody>\n",
       "</table>\n",
       "</div>"
      ],
      "text/plain": [
       "         date    dji\n",
       "0  1896-05-26  40.94\n",
       "1  1896-05-27  40.58\n",
       "2  1896-05-28  40.20\n",
       "3  1896-05-29  40.63\n",
       "4  1896-06-01  40.60"
      ]
     },
     "execution_count": 3,
     "metadata": {},
     "output_type": "execute_result"
    }
   ],
   "source": [
    "db.get_table('djones', 'djdaily', columns=['date', 'dji'], obs=5)"
   ]
  },
  {
   "cell_type": "code",
   "execution_count": 2,
   "metadata": {
    "scrolled": false
   },
   "outputs": [
    {
     "data": {
      "text/html": [
       "<div>\n",
       "<style scoped>\n",
       "    .dataframe tbody tr th:only-of-type {\n",
       "        vertical-align: middle;\n",
       "    }\n",
       "\n",
       "    .dataframe tbody tr th {\n",
       "        vertical-align: top;\n",
       "    }\n",
       "\n",
       "    .dataframe thead th {\n",
       "        text-align: right;\n",
       "    }\n",
       "</style>\n",
       "<table border=\"1\" class=\"dataframe\">\n",
       "  <thead>\n",
       "    <tr style=\"text-align: right;\">\n",
       "      <th></th>\n",
       "      <th>date</th>\n",
       "      <th>dji</th>\n",
       "    </tr>\n",
       "  </thead>\n",
       "  <tbody>\n",
       "    <tr>\n",
       "      <th>0</th>\n",
       "      <td>1896-05-26</td>\n",
       "      <td>40.94</td>\n",
       "    </tr>\n",
       "    <tr>\n",
       "      <th>1</th>\n",
       "      <td>1896-05-27</td>\n",
       "      <td>40.58</td>\n",
       "    </tr>\n",
       "    <tr>\n",
       "      <th>2</th>\n",
       "      <td>1896-05-28</td>\n",
       "      <td>40.20</td>\n",
       "    </tr>\n",
       "    <tr>\n",
       "      <th>3</th>\n",
       "      <td>1896-05-29</td>\n",
       "      <td>40.63</td>\n",
       "    </tr>\n",
       "    <tr>\n",
       "      <th>4</th>\n",
       "      <td>1896-06-01</td>\n",
       "      <td>40.60</td>\n",
       "    </tr>\n",
       "  </tbody>\n",
       "</table>\n",
       "</div>"
      ],
      "text/plain": [
       "        date    dji\n",
       "0 1896-05-26  40.94\n",
       "1 1896-05-27  40.58\n",
       "2 1896-05-28  40.20\n",
       "3 1896-05-29  40.63\n",
       "4 1896-06-01  40.60"
      ]
     },
     "execution_count": 2,
     "metadata": {},
     "output_type": "execute_result"
    }
   ],
   "source": [
    "db.raw_sql('select date,dji from djones.djdaily LIMIT 5;', date_cols=['date'])"
   ]
  },
  {
   "cell_type": "markdown",
   "metadata": {},
   "source": [
    "Each of these will be explored in more detail below."
   ]
  },
  {
   "cell_type": "markdown",
   "metadata": {},
   "source": [
    "## 2.4 Querying the Dataset Structure (Metadata)"
   ]
  },
  {
   "cell_type": "markdown",
   "metadata": {},
   "source": [
    "<p>Data at WRDS is organized in a hierarchical manner by vendor (e.g. <strong>crsp</strong>), referred to at the top-level as <em>libraries</em>. Each library contains a number of component tables or <em>datasets</em> (e.g. <strong>dsf</strong>) which contain the actual data in tabular format, with column headers called <em>variables</em> (such as <em>date</em>, <em>askhi</em>, <em>bidlo</em>, etc).</p>\n",
    "\n",
    "<p>You can analyze the structure of the data through its metadata using the <strong>wrds</strong> module, as outlined in the following steps:</p>\n",
    "\n",
    "<ol><li>List all available <em>libraries</em> at WRDS using <code>list_libraries()</code></li>\n",
    "    <li>Select a library to work with, and list all available <em>datasets</em> within that library using <code>list_tables()</code></li>\n",
    "    <li>Select a dataset, and list all available <em>variables</em> (column headers) within that dataset using <code>describe_table()</code></li></ol>"
   ]
  },
  {
   "cell_type": "markdown",
   "metadata": {},
   "source": [
    "<div class=\"alert alert-block alert-warning\">\n",
    "<b>NOTE:</b> When referencing library and dataset names, you must use all <em>lowercase</em>.\n",
    "</div>"
   ]
  },
  {
   "cell_type": "markdown",
   "metadata": {},
   "source": [
    "<p>Alternatively, a comprehensive list of all WRDS libraries is available at the <a href=\"https://wrds-www.wharton.upenn.edu/pages/support/data-wrds/dataset-list/\">Dataset List</a>. This resource provides a listing of each library, their component datasets and variables, as well as a tabular database preview feature, and is helpful in establishing the structure of the data you're looking for in an easy manner from a Web browser.</p>"
   ]
  },
  {
   "cell_type": "markdown",
   "metadata": {},
   "source": [
    "<p>1. Determine the <em>libraries</em> available at WRDS:</p>"
   ]
  },
  {
   "cell_type": "code",
   "execution_count": 4,
   "metadata": {},
   "outputs": [],
   "source": [
    "db.list_libraries();"
   ]
  },
  {
   "cell_type": "markdown",
   "metadata": {},
   "source": [
    "This will list all libraries available at WRDS. Though all libraries will be shown, you must have a valid, current subscription for a library in order to access it via Python, just as with SAS or any other supported programming language at WRDS. You will receive an error message indicating this if you attempt to query a table to which your institution does not have access."
   ]
  },
  {
   "cell_type": "markdown",
   "metadata": {},
   "source": [
    "<p>2. To determine the <em>datasets</em> within a given library:</p>"
   ]
  },
  {
   "cell_type": "code",
   "execution_count": null,
   "metadata": {},
   "outputs": [],
   "source": [
    "db.list_tables(library=\"library\")"
   ]
  },
  {
   "cell_type": "markdown",
   "metadata": {},
   "source": [
    "<p>Where 'library' is a dataset, such as <strong>crsp</strong> or <strong>comp,</strong> as returned from step 1 above.</p> \n",
    "\n",
    "For example, to determine <em>datasets</em> within the <b>MSCI ESG KLD STATS</b> library with the vendor name <b>kld</b>:"
   ]
  },
  {
   "cell_type": "code",
   "execution_count": 5,
   "metadata": {},
   "outputs": [
    {
     "data": {
      "text/plain": [
       "['history', 'kldnames']"
      ]
     },
     "execution_count": 5,
     "metadata": {},
     "output_type": "execute_result"
    }
   ],
   "source": [
    "db.list_tables(library=\"kld\")"
   ]
  },
  {
   "cell_type": "markdown",
   "metadata": {},
   "source": [
    "<p>3. To determine the column headers (<em>variables</em>) within a given dataset:</p>"
   ]
  },
  {
   "cell_type": "code",
   "execution_count": null,
   "metadata": {},
   "outputs": [],
   "source": [
    "db.describe_table(library=\"library\", table=\"table\")"
   ]
  },
  {
   "cell_type": "markdown",
   "metadata": {},
   "source": [
    "<p>Where 'library' is a dataset such as <strong>crsp</strong> as returned from #1 above and 'table' is a component database within that library, such as <strong>msf</strong>, as returned from query #2 above. Remember that both the library and the dataset are case-sensitive, and must be all-lowercase.</p>\n",
    "\n",
    "<p>Alternatively, a comprehensive list of all WRDS libraries is available via the <a href=\"https://wrds-web.wharton.upenn.edu/wrds/tools/variable.cfm\">WRDS Dataset List</a>. This online resource provides a listing of each library, their component datasets and variables, as well as a tabular database preview feature.</p>\n",
    "\n",
    "<p>By examining the metadata available to us -- the structure of the data -- we've determined how to reference the data we're researching, and what variables are available within that data. We can now perform our actual research, creating <em>data queries</em>, which are explored in depth in the next section.</p>"
   ]
  },
  {
   "cell_type": "markdown",
   "metadata": {},
   "source": [
    "## 2.5 Querying WRDS Data"
   ]
  },
  {
   "cell_type": "markdown",
   "metadata": {},
   "source": [
    "<div class=\"rich-text\"><p>The <strong>wrds</strong> module provides several methods that are useful in gathering data:</p><ul>\n",
    "    <li><code>get_table()</code> - fetches data by matching library and dataset, with the ability to filter using different parameters. This is the easiest method of accessing data.</li>\n",
    "    <li><code>raw_sql()</code> - executes a SQL query against the specified library and dataset, allowing for highly-granular data queries.</li><li><code>get_row_count()</code> - returns the number of rows in a given dataset.</li>\n",
    "    </ul>\n",
    "    <p>Each of these is discussed below.</p></div>"
   ]
  },
  {
   "cell_type": "markdown",
   "metadata": {},
   "source": [
    "### 2.5.1 Using get_table() "
   ]
  },
  {
   "cell_type": "markdown",
   "metadata": {},
   "source": [
    "<div class=\"rich-text\"><p>The method <code>get_table()</code> accepts the following parameters:</p>\n",
    "    <ul><li><strong>library</strong> - the library to query</li>\n",
    "        <li><strong>table</strong> - the dataset to query</li>\n",
    "        <li><strong>columns</strong> - the columns (variables) to include in the query (optional)</li>\n",
    "        <li><strong>obs</strong> - the number of observations (rows) to return (optional)</li>\n",
    "        <li><strong>offset</strong> - the starting point of for the query (optional)</li></ul>\n",
    "    <p>For additional parameters, and further explanation of each, use the built-in help: <code>help(db.get_table)</code></p><p>Here's an example that returns the first 5 rows of only the <strong>date</strong> and <strong>dji</strong> columns from the Dow Jones Index:</p></div>"
   ]
  },
  {
   "cell_type": "code",
   "execution_count": 5,
   "metadata": {},
   "outputs": [
    {
     "data": {
      "text/html": [
       "<div>\n",
       "<style scoped>\n",
       "    .dataframe tbody tr th:only-of-type {\n",
       "        vertical-align: middle;\n",
       "    }\n",
       "\n",
       "    .dataframe tbody tr th {\n",
       "        vertical-align: top;\n",
       "    }\n",
       "\n",
       "    .dataframe thead th {\n",
       "        text-align: right;\n",
       "    }\n",
       "</style>\n",
       "<table border=\"1\" class=\"dataframe\">\n",
       "  <thead>\n",
       "    <tr style=\"text-align: right;\">\n",
       "      <th></th>\n",
       "      <th>date</th>\n",
       "      <th>dji</th>\n",
       "    </tr>\n",
       "  </thead>\n",
       "  <tbody>\n",
       "    <tr>\n",
       "      <th>0</th>\n",
       "      <td>1896-05-26</td>\n",
       "      <td>40.94</td>\n",
       "    </tr>\n",
       "    <tr>\n",
       "      <th>1</th>\n",
       "      <td>1896-05-27</td>\n",
       "      <td>40.58</td>\n",
       "    </tr>\n",
       "    <tr>\n",
       "      <th>2</th>\n",
       "      <td>1896-05-28</td>\n",
       "      <td>40.20</td>\n",
       "    </tr>\n",
       "    <tr>\n",
       "      <th>3</th>\n",
       "      <td>1896-05-29</td>\n",
       "      <td>40.63</td>\n",
       "    </tr>\n",
       "    <tr>\n",
       "      <th>4</th>\n",
       "      <td>1896-06-01</td>\n",
       "      <td>40.60</td>\n",
       "    </tr>\n",
       "  </tbody>\n",
       "</table>\n",
       "</div>"
      ],
      "text/plain": [
       "         date    dji\n",
       "0  1896-05-26  40.94\n",
       "1  1896-05-27  40.58\n",
       "2  1896-05-28  40.20\n",
       "3  1896-05-29  40.63\n",
       "4  1896-06-01  40.60"
      ]
     },
     "execution_count": 5,
     "metadata": {},
     "output_type": "execute_result"
    }
   ],
   "source": [
    "data = db.get_table(library='djones', table='djdaily', columns=['date', 'dji'], obs=5)\n",
    "data"
   ]
  },
  {
   "cell_type": "markdown",
   "metadata": {},
   "source": [
    "<div class=\"alert alert-block alert-warning\">\n",
    "<b>NOTE:</b> The <strong>library</strong> and <strong>table</strong> parameters are required, and are also positional. Therefore, should you chose, you may omit the label for these two parameters as long as you supply them in order.\n",
    "</div>"
   ]
  },
  {
   "cell_type": "markdown",
   "metadata": {},
   "source": [
    "The following example illustrates this:"
   ]
  },
  {
   "cell_type": "code",
   "execution_count": 6,
   "metadata": {},
   "outputs": [
    {
     "data": {
      "text/html": [
       "<div>\n",
       "<style scoped>\n",
       "    .dataframe tbody tr th:only-of-type {\n",
       "        vertical-align: middle;\n",
       "    }\n",
       "\n",
       "    .dataframe tbody tr th {\n",
       "        vertical-align: top;\n",
       "    }\n",
       "\n",
       "    .dataframe thead th {\n",
       "        text-align: right;\n",
       "    }\n",
       "</style>\n",
       "<table border=\"1\" class=\"dataframe\">\n",
       "  <thead>\n",
       "    <tr style=\"text-align: right;\">\n",
       "      <th></th>\n",
       "      <th>date</th>\n",
       "      <th>dji</th>\n",
       "    </tr>\n",
       "  </thead>\n",
       "  <tbody>\n",
       "    <tr>\n",
       "      <th>0</th>\n",
       "      <td>1896-05-26</td>\n",
       "      <td>40.94</td>\n",
       "    </tr>\n",
       "    <tr>\n",
       "      <th>1</th>\n",
       "      <td>1896-05-27</td>\n",
       "      <td>40.58</td>\n",
       "    </tr>\n",
       "    <tr>\n",
       "      <th>2</th>\n",
       "      <td>1896-05-28</td>\n",
       "      <td>40.20</td>\n",
       "    </tr>\n",
       "    <tr>\n",
       "      <th>3</th>\n",
       "      <td>1896-05-29</td>\n",
       "      <td>40.63</td>\n",
       "    </tr>\n",
       "    <tr>\n",
       "      <th>4</th>\n",
       "      <td>1896-06-01</td>\n",
       "      <td>40.60</td>\n",
       "    </tr>\n",
       "  </tbody>\n",
       "</table>\n",
       "</div>"
      ],
      "text/plain": [
       "         date    dji\n",
       "0  1896-05-26  40.94\n",
       "1  1896-05-27  40.58\n",
       "2  1896-05-28  40.20\n",
       "3  1896-05-29  40.63\n",
       "4  1896-06-01  40.60"
      ]
     },
     "execution_count": 6,
     "metadata": {},
     "output_type": "execute_result"
    }
   ],
   "source": [
    "data = db.get_table('djones', 'djdaily', columns=['date', 'dji'], obs=5)\n",
    "data"
   ]
  },
  {
   "cell_type": "markdown",
   "metadata": {},
   "source": [
    "### 2.5.2 Using raw_sql()"
   ]
  },
  {
   "cell_type": "markdown",
   "metadata": {},
   "source": [
    "<div class=\"rich-text\"><p>The method <code>raw_sql()</code> accepts the following parameters:</p>\n",
    "    <ul><li><strong>sql</strong> - the SQL string to query</li>\n",
    "        <li><strong>date_cols</strong> - a list or dict of column names to parse as date (optional)</li>\n",
    "        <li><strong>index_col</strong> - a string or list of column(s) to set as index(es) (optional)</li></ul>\n",
    "    <p>For additional parameters, and further explanation of each, use the built-in help: <code>help(db.raw_sql)</code></p><p>Here's an example that does the same thing as <code>get_table()</code> example above, but uses SQL to select the data instead:</p></div>"
   ]
  },
  {
   "cell_type": "code",
   "execution_count": 7,
   "metadata": {},
   "outputs": [
    {
     "data": {
      "text/html": [
       "<div>\n",
       "<style scoped>\n",
       "    .dataframe tbody tr th:only-of-type {\n",
       "        vertical-align: middle;\n",
       "    }\n",
       "\n",
       "    .dataframe tbody tr th {\n",
       "        vertical-align: top;\n",
       "    }\n",
       "\n",
       "    .dataframe thead th {\n",
       "        text-align: right;\n",
       "    }\n",
       "</style>\n",
       "<table border=\"1\" class=\"dataframe\">\n",
       "  <thead>\n",
       "    <tr style=\"text-align: right;\">\n",
       "      <th></th>\n",
       "      <th>date</th>\n",
       "      <th>dji</th>\n",
       "    </tr>\n",
       "  </thead>\n",
       "  <tbody>\n",
       "    <tr>\n",
       "      <th>0</th>\n",
       "      <td>1896-05-26</td>\n",
       "      <td>40.94</td>\n",
       "    </tr>\n",
       "    <tr>\n",
       "      <th>1</th>\n",
       "      <td>1896-05-27</td>\n",
       "      <td>40.58</td>\n",
       "    </tr>\n",
       "    <tr>\n",
       "      <th>2</th>\n",
       "      <td>1896-05-28</td>\n",
       "      <td>40.20</td>\n",
       "    </tr>\n",
       "    <tr>\n",
       "      <th>3</th>\n",
       "      <td>1896-05-29</td>\n",
       "      <td>40.63</td>\n",
       "    </tr>\n",
       "    <tr>\n",
       "      <th>4</th>\n",
       "      <td>1896-06-01</td>\n",
       "      <td>40.60</td>\n",
       "    </tr>\n",
       "  </tbody>\n",
       "</table>\n",
       "</div>"
      ],
      "text/plain": [
       "        date    dji\n",
       "0 1896-05-26  40.94\n",
       "1 1896-05-27  40.58\n",
       "2 1896-05-28  40.20\n",
       "3 1896-05-29  40.63\n",
       "4 1896-06-01  40.60"
      ]
     },
     "execution_count": 7,
     "metadata": {},
     "output_type": "execute_result"
    }
   ],
   "source": [
    "data = db.raw_sql('select date,dji from djones.djdaily LIMIT 5;', date_cols=['date'])\n",
    "data"
   ]
  },
  {
   "cell_type": "markdown",
   "metadata": {},
   "source": [
    "<div class=\"rich-text\"><p>The <code>raw_sql()</code> method is by far the most useful and popular of the <strong>wrds</strong> module's methods, allowing powerful and granular control over your data processing. Writing SQL for use with this method of fairly straightforward. All data queries are constructed in SQL the following generic manner:</p>\n",
    "    <p><code>select columns from library.dataset where column1 = value</code></p>\n",
    "    <p>Notice the <em>dot notation</em> for the library and dataset. Unlike the other <strong>wrds</strong> methods, where <em>library</em> and <em>table</em> are specified separately, SQL queries instead use the two together to identify the data location. So, for example, a data query for the <em>dataset</em> <strong>msf</strong> within the <em>library</em> <strong>crsp</strong> would use the syntax <strong>crsp.msf</strong>, and the same goes for <strong>djones.djdaily</strong>.</p>\n",
    "    <p>You'll likely be doing most of your work using the <code>raw_sql()</code> method.</p></div>"
   ]
  },
  {
   "cell_type": "markdown",
   "metadata": {},
   "source": [
    "### 2.5.3 Using get_row_count()"
   ]
  },
  {
   "cell_type": "markdown",
   "metadata": {},
   "source": [
    "<div class=\"rich-text\"><p>The method <code>get_row_count()</code> only accepts the following two parameters:</p>\n",
    "    <ul><li><strong>library</strong> - the library to query</li>\n",
    "        <li><strong>table</strong> - the dataset to query</li></ul>\n",
    "    <p>For additional information, use the built-in help: <strong>help(db.get_row_count)</strong></p><p>Here is an example that returns the row count for the Dow Jones Index:</p></div>"
   ]
  },
  {
   "cell_type": "code",
   "execution_count": 9,
   "metadata": {},
   "outputs": [
    {
     "data": {
      "text/plain": [
       "28038"
      ]
     },
     "execution_count": 9,
     "metadata": {},
     "output_type": "execute_result"
    }
   ],
   "source": [
    "data = db.get_row_count('djones', 'djdaily')\n",
    "data"
   ]
  },
  {
   "cell_type": "markdown",
   "metadata": {},
   "source": [
    "## 2.6 Joining Data from Separate Datasets"
   ]
  },
  {
   "cell_type": "markdown",
   "metadata": {},
   "source": [
    "<div class=\"rich-text\">\n",
    "    <p>Data from separate datasets can be joined and analyzed together. The following example will join the Compustat Fundamentals data set (<strong>comp.funda</strong>) with Compustat's pricing dataset (<strong>comp.secm</strong>), and then query for total assets and liabilities mixed with monthly close price and shares outstanding.</p><p></p><p><strong>To join and query two Compustat datasets:</strong></p><p></p>\n",
    "</div>"
   ]
  },
  {
   "cell_type": "code",
   "execution_count": 11,
   "metadata": {
    "scrolled": true
   },
   "outputs": [
    {
     "data": {
      "text/html": [
       "<div>\n",
       "<style scoped>\n",
       "    .dataframe tbody tr th:only-of-type {\n",
       "        vertical-align: middle;\n",
       "    }\n",
       "\n",
       "    .dataframe tbody tr th {\n",
       "        vertical-align: top;\n",
       "    }\n",
       "\n",
       "    .dataframe thead th {\n",
       "        text-align: right;\n",
       "    }\n",
       "</style>\n",
       "<table border=\"1\" class=\"dataframe\">\n",
       "  <thead>\n",
       "    <tr style=\"text-align: right;\">\n",
       "      <th></th>\n",
       "      <th>gvkey</th>\n",
       "      <th>datadate</th>\n",
       "      <th>tic</th>\n",
       "      <th>conm</th>\n",
       "      <th>at</th>\n",
       "      <th>lt</th>\n",
       "      <th>prccm</th>\n",
       "      <th>cshoq</th>\n",
       "    </tr>\n",
       "  </thead>\n",
       "  <tbody>\n",
       "    <tr>\n",
       "      <th>0</th>\n",
       "      <td>006066</td>\n",
       "      <td>1962-12-31</td>\n",
       "      <td>IBM</td>\n",
       "      <td>INTL BUSINESS MACHINES CORP</td>\n",
       "      <td>2112.301</td>\n",
       "      <td>731.700</td>\n",
       "      <td>389.999567</td>\n",
       "      <td>NaN</td>\n",
       "    </tr>\n",
       "    <tr>\n",
       "      <th>1</th>\n",
       "      <td>006066</td>\n",
       "      <td>1963-12-31</td>\n",
       "      <td>IBM</td>\n",
       "      <td>INTL BUSINESS MACHINES CORP</td>\n",
       "      <td>2373.857</td>\n",
       "      <td>782.119</td>\n",
       "      <td>506.999353</td>\n",
       "      <td>NaN</td>\n",
       "    </tr>\n",
       "    <tr>\n",
       "      <th>2</th>\n",
       "      <td>006066</td>\n",
       "      <td>1964-12-31</td>\n",
       "      <td>IBM</td>\n",
       "      <td>INTL BUSINESS MACHINES CORP</td>\n",
       "      <td>3309.152</td>\n",
       "      <td>1055.072</td>\n",
       "      <td>409.499496</td>\n",
       "      <td>NaN</td>\n",
       "    </tr>\n",
       "    <tr>\n",
       "      <th>3</th>\n",
       "      <td>006066</td>\n",
       "      <td>1965-12-31</td>\n",
       "      <td>IBM</td>\n",
       "      <td>INTL BUSINESS MACHINES CORP</td>\n",
       "      <td>3744.917</td>\n",
       "      <td>1166.771</td>\n",
       "      <td>498.999146</td>\n",
       "      <td>NaN</td>\n",
       "    </tr>\n",
       "    <tr>\n",
       "      <th>4</th>\n",
       "      <td>006066</td>\n",
       "      <td>1966-12-31</td>\n",
       "      <td>IBM</td>\n",
       "      <td>INTL BUSINESS MACHINES CORP</td>\n",
       "      <td>4660.777</td>\n",
       "      <td>1338.149</td>\n",
       "      <td>371.499662</td>\n",
       "      <td>NaN</td>\n",
       "    </tr>\n",
       "    <tr>\n",
       "      <th>5</th>\n",
       "      <td>006066</td>\n",
       "      <td>1967-12-31</td>\n",
       "      <td>IBM</td>\n",
       "      <td>INTL BUSINESS MACHINES CORP</td>\n",
       "      <td>5598.668</td>\n",
       "      <td>1767.067</td>\n",
       "      <td>626.999512</td>\n",
       "      <td>NaN</td>\n",
       "    </tr>\n",
       "    <tr>\n",
       "      <th>6</th>\n",
       "      <td>006066</td>\n",
       "      <td>1968-12-31</td>\n",
       "      <td>IBM</td>\n",
       "      <td>INTL BUSINESS MACHINES CORP</td>\n",
       "      <td>6743.430</td>\n",
       "      <td>2174.291</td>\n",
       "      <td>314.999847</td>\n",
       "      <td>NaN</td>\n",
       "    </tr>\n",
       "    <tr>\n",
       "      <th>7</th>\n",
       "      <td>006066</td>\n",
       "      <td>1969-12-31</td>\n",
       "      <td>IBM</td>\n",
       "      <td>INTL BUSINESS MACHINES CORP</td>\n",
       "      <td>7389.957</td>\n",
       "      <td>2112.967</td>\n",
       "      <td>364.499359</td>\n",
       "      <td>113.717</td>\n",
       "    </tr>\n",
       "    <tr>\n",
       "      <th>8</th>\n",
       "      <td>006066</td>\n",
       "      <td>1970-12-31</td>\n",
       "      <td>IBM</td>\n",
       "      <td>INTL BUSINESS MACHINES CORP</td>\n",
       "      <td>8539.047</td>\n",
       "      <td>2591.909</td>\n",
       "      <td>317.749634</td>\n",
       "      <td>114.587</td>\n",
       "    </tr>\n",
       "    <tr>\n",
       "      <th>9</th>\n",
       "      <td>006066</td>\n",
       "      <td>1971-12-31</td>\n",
       "      <td>IBM</td>\n",
       "      <td>INTL BUSINESS MACHINES CORP</td>\n",
       "      <td>9576.219</td>\n",
       "      <td>2933.837</td>\n",
       "      <td>336.499634</td>\n",
       "      <td>115.534</td>\n",
       "    </tr>\n",
       "  </tbody>\n",
       "</table>\n",
       "</div>"
      ],
      "text/plain": [
       "    gvkey    datadate  tic                         conm        at        lt  \\\n",
       "0  006066  1962-12-31  IBM  INTL BUSINESS MACHINES CORP  2112.301   731.700   \n",
       "1  006066  1963-12-31  IBM  INTL BUSINESS MACHINES CORP  2373.857   782.119   \n",
       "2  006066  1964-12-31  IBM  INTL BUSINESS MACHINES CORP  3309.152  1055.072   \n",
       "3  006066  1965-12-31  IBM  INTL BUSINESS MACHINES CORP  3744.917  1166.771   \n",
       "4  006066  1966-12-31  IBM  INTL BUSINESS MACHINES CORP  4660.777  1338.149   \n",
       "5  006066  1967-12-31  IBM  INTL BUSINESS MACHINES CORP  5598.668  1767.067   \n",
       "6  006066  1968-12-31  IBM  INTL BUSINESS MACHINES CORP  6743.430  2174.291   \n",
       "7  006066  1969-12-31  IBM  INTL BUSINESS MACHINES CORP  7389.957  2112.967   \n",
       "8  006066  1970-12-31  IBM  INTL BUSINESS MACHINES CORP  8539.047  2591.909   \n",
       "9  006066  1971-12-31  IBM  INTL BUSINESS MACHINES CORP  9576.219  2933.837   \n",
       "\n",
       "        prccm    cshoq  \n",
       "0  389.999567      NaN  \n",
       "1  506.999353      NaN  \n",
       "2  409.499496      NaN  \n",
       "3  498.999146      NaN  \n",
       "4  371.499662      NaN  \n",
       "5  626.999512      NaN  \n",
       "6  314.999847      NaN  \n",
       "7  364.499359  113.717  \n",
       "8  317.749634  114.587  \n",
       "9  336.499634  115.534  "
      ]
     },
     "execution_count": 11,
     "metadata": {},
     "output_type": "execute_result"
    }
   ],
   "source": [
    "db.raw_sql(\"select a.gvkey, a.datadate, a.tic, a.conm, a.at, a.lt, b.prccm, b.cshoq \"\n",
    "           \"from comp.funda a join comp.secm b \"\n",
    "           \"on a.gvkey = b.gvkey and a.datadate = b.datadate \"\n",
    "           \"where a.tic = 'IBM' and a.datafmt = 'STD' and a.consol = 'C' and a.indfmt = 'INDL' \"\n",
    "           \"LIMIT 10\")"
   ]
  },
  {
   "cell_type": "markdown",
   "metadata": {},
   "source": [
    "<p>The code joins both datasets using a common <strong>gvkey</strong> identifier and date, querying IBM with a frequency of one year, resulting in a result of 55 observations (as of 2017). Running joined queries between large datasets can require large amounts of memory and execution time. It is recommended you limit the scope of your queries to reasonable sizes when performing joins.</p>\n",
    "\n",
    "<div class=\"alert alert-block alert-warning\">\n",
    "<b>NOTE:</b> For this example, you would need an active subscription to both datasets.\n",
    "</div>"
   ]
  },
  {
   "cell_type": "markdown",
   "metadata": {},
   "source": [
    "## 2.7 Managing your Connections"
   ]
  },
  {
   "cell_type": "markdown",
   "metadata": {},
   "source": [
    "<div class=\"rich-text\">\n",
    "    <p>WRDS users are permitted up to 5 simultaneous connections to our Postgres data backend. For Python users, that means you may use <code>wrds.Connection()</code> up to five times before being denied additional connections.</p>\n",
    "    <p>The best way to manage this, is to properly close out your connection to WRDS once you are done with it. With the Python <strong>wrds</strong> module, you simply use the <code>close()</code> method like so:</p>\n",
    "</div>"
   ]
  },
  {
   "cell_type": "code",
   "execution_count": null,
   "metadata": {},
   "outputs": [],
   "source": [
    "import wrds\n",
    "db = wrds.Connection()\n",
    "data = db.raw_sql(\"select * from djones.djdaily\")\n",
    "db.close()"
   ]
  },
  {
   "cell_type": "markdown",
   "metadata": {},
   "source": [
    "<div class=\"rich-text\">\n",
    "    <p>Using the above, we've connected to WRDS, downloaded the data we need, and disconnected. We can continue to use the results from our query (<strong>data</strong>) even after disconnecting and the previous connection now longer counts against us when we go to connect again.<br><br>You should always disconnect using <code>close()</code> when you:</p>\n",
    "    <ul><li>Exit your Python environment</li><li>Finish running your program</li>\n",
    "        <li>Complete your data query download step, and want to move onto another.</li>\n",
    "    </ul>\n",
    "    <p>WRDS is currently working on a facility to allow you to cancel any connections you may have accidentally left open, but in the meantime, if you are getting an error message indicate that you have too many connections open to WRDS, try to close any existing connection you may have with the <code>close()</code> method, wait for your existing connections to timeout and close on their own, or reach out to us at <a href=\"https://wrds-web.wharton.upenn.edu/wrds/zendesk_sso.cfm\">WRDS Support</a> for assistance.</p>\n",
    "</div>"
   ]
  },
  {
   "cell_type": "markdown",
   "metadata": {},
   "source": [
    "## 2.8 Passing Parameters to SQL "
   ]
  },
  {
   "cell_type": "markdown",
   "metadata": {},
   "source": [
    "<p>The <code>raw_sql()</code> method now also supports parameterized SQL, allowing you to pass variables or lists from elsewhere in your Python code to your SQL statement. This is great for large lists of company codes or identifiers, or an array of specific trading days. Here is an example where a dictionary of tickers is passed through to a raw_sql() SQL statement:</p>"
   ]
  },
  {
   "cell_type": "code",
   "execution_count": null,
   "metadata": {},
   "outputs": [],
   "source": [
    "parm = {'tickers': ('0015B', '0030B', '0032A', '0033A', '0038A')}\n",
    "data = db.raw_sql('SELECT datadate,gvkey,cusip FROM comp.funda WHERE tic in %(tickers)s', params=parm)"
   ]
  },
  {
   "cell_type": "markdown",
   "metadata": {},
   "source": [
    "<div class=\"rich-text\">\n",
    "    <p>This allows for a great deal of flexibility in terms of your SQL queries. Common use cases might include building out a list of tickers, CUSIPS, etc programmatically or from an external file; re-using the same code list over multiple queries that adjust other parameters, such as date range; or matching based on specified trading days.</p>\n",
    "    <p>This functionality uses Panda's native SQL capabilities, and thus requires SQL that conforms to a slightly different standard than the generalized SQL you otherwise use with <code>raw_sql()</code>. Specifically, it uses the Python DB-API 2.0 specification, which conforms to PEP 249.</p><p>For more information, please se one of the following links:</p>\n",
    "    <p><a href=\"http://initd.org/psycopg/docs/usage.html#passing-parameters-to-sql-queries\">Psycopg: Passing Parameters to SQL Queries</a></p>\n",
    "    <p><a href=\"https://pandas.pydata.org/pandas-docs/stable/generated/pandas.read_sql_query.html\">Pandas: read_sql_query()</a></p><p><a href=\"https://www.python.org/dev/peps/pep-0249/\">Python: PEP 249</a></p>\n",
    "    <p>This feature was added in version 3.0.6 of the Python <strong>wrds</strong> module.</p>\n",
    "</div>"
   ]
  }
 ],
 "metadata": {
  "kernelspec": {
   "display_name": "Python 3",
   "language": "python",
   "name": "python3"
  },
  "language_info": {
   "codemirror_mode": {
    "name": "ipython",
    "version": 3
   },
   "file_extension": ".py",
   "mimetype": "text/x-python",
   "name": "python",
   "nbconvert_exporter": "python",
   "pygments_lexer": "ipython3",
   "version": "3.6.8"
  }
 },
 "nbformat": 4,
 "nbformat_minor": 2
}
