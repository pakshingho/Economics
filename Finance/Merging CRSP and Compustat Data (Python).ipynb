{
 "cells": [
  {
   "attachments": {},
   "cell_type": "markdown",
   "metadata": {},
   "source": [
    "# Merging CRSP and Compustat Data (Python)\n",
    "This notebook provides a guide to merging data from the CRSP and Compustat datasets at the securities level using Python. It replicates the [SAS version](https://wrds-www.wharton.upenn.edu/pages/support/applications/linking-databases/linking-crsp-and-compustat/) from [Wharton Research Data Services](https://wrds-www.wharton.upenn.edu/).\n",
    "\n",
    "## Background\n",
    "CRSP and Compustat have been two of the most widely-used datasets in empirical finance and accounting literature since the early 1990s. Between 2001 and 2015, the combined Web queries for these two datasets together account for more than 80% of WRDS website traffic. This notebook provides a general guide to matching and merging data from these two databases at the securities level.\n",
    "\n",
    "## Changing Security Identifiers\n",
    "Among all commonly-used security/company identifiers, TICKER and CUSIP are probably the most frequently cited. TICKER is the abbreviation used to uniquely identify publicly-traded shares of a particular stock, while CUSIP is the nine-character alphanumeric code assigned by the CUSIP Service Bureau to identify various securities.\n",
    "\n",
    "However, there are a few problems associated with those two identifiers for researchers looking to use them to match historical records. First of all, neither identifier is permanent. A change in CUSIP, for example, could be triggered by any change in the security, including non-fundamental events such as splits and company name changes. In addition, retired stock TICKER symbols are often reused.\n",
    "\n",
    "The following table shows an example where both the TICKER and CUSIP were changed three times in roughly four years, and the name of the company changed once.\n",
    "\n",
    "![Table](https://wrds-www.wharton.upenn.edu/media/images/ccm_figure_1.width-800.png)\n",
    "\n",
    "Because TICKERs and CUSIPs change over time, most datasets use permanent identifiers to indicate the same securities and companies. For example, CRSP employs PERMNO to track stocks, Compustat uses GVKEY to follow companies, and a combination of GVKEY and IID is used to track securities. As indicated in the preceding table, both PERMNO and GVKEY (+IID) remain the same, regardless of changes in TICKER, CUSIP, and company names. One thing worth noticing is that, unlike CRSP, Compustat does not keep historical records in their standard datafeed.\n",
    "\n",
    "## CRSP vs. Compustat Data Structure\n",
    "\n",
    "To understand how data is matched, keep in mind the structural differences between the two datasets. The following table demonstrates four major structural differences between CRSP and Compustat data:\n",
    "\n",
    "|     |\tCRSP |\tCompustat North American |\n",
    "|:-----|:------|:---------------------------|\n",
    "|Time | From 1925[1] |\tFrom 1950\n",
    "|Universe | Firms listed in U.S. major <br> exchanges: NYSE, NASDAQ,<br> AMEX, and ARCA | U.S. (10Q filers) and Canadian firms:<br> - listed in major U.S. or Canadian exchanges<br> - listed in regional exchanges<br> - with shares traded as OTC, or<br> - with a certain amount of public bonds|\n",
    "|Frequency\t| Daily or Monthly\t| Quarterly and Annually |\n",
    "|Inclusion |\tSecurities are included from<br> their IPO |\tTraditionally, Compustat only includes a firm after it<br> has publicly disclosed its financial statements for a<br> few years. [2] |\n",
    "\n",
    "[1] In fact, CRSP includes stocks listed in different exchanges over different periods of time. In particular, CRSP includes stocks listed on the NYSE, NYSE MKT (AMEX), NASDAQ, and ARCA from 1925, 1962, 1972, and 2006, respectively.\n",
    "\n",
    "[2] Early researchers (for example, Kothari, Shanken and Sloan (1995)), find a selection bias (survivorship bias) in the way in which firms are added to the Compustat database. In particular, Compustat adds a new firm into its system only when the firm has reported its financial statement for multiple years, which is sometimes called back-filling bias.\n",
    "\n",
    "These structural differences typically create three kinds of unmatchable scenarios:\n",
    "\n",
    "* Prior to 1950, trading records (CRSP) cannot be matched to fundamental items (Compustat).\n",
    "* Fundamental items cannot be matched to trading records when firms are listed in regional exchanges, are traded as OTC, or only have bonds publicly traded.\n",
    "* Trading records cannot be matched to fundamental items when those stocks did not survive long enough (e.g., due to M&A) for Compustat to include their fundamental items.\n",
    "\n",
    "## Data-Matching Implementation\n",
    "### Merge by CUSIP\n",
    "Starting in 1968, the CUSIP Service Bureau began assigning the CUSIP - a nine-character alphanumeric identifier - to a publicly traded security. Unlike TICKER, CUSIP is not a reusable security identifier, so it has been widely used to match different data from different datasets. CRSP and Compustat, however, use slightly different approaches to keeping CUSIP records. CRSP drops the 9th (checksum) digit in CUSIPs and keeps historical CUSIPs, while Compustat uses the full, 9-digit CUSIP and keeps only the most current CUSIP.[3]\n",
    "\n",
    "The following Python code sample shows matching CRSP and Compustat data at the security level by CUSIP:"
   ]
  },
  {
   "cell_type": "code",
   "execution_count": 1,
   "metadata": {},
   "outputs": [
    {
     "name": "stderr",
     "output_type": "stream",
     "text": [
      "/Users/shinggg/anaconda3/lib/python3.6/site-packages/fuzzywuzzy/fuzz.py:11: UserWarning: Using slow pure-python SequenceMatcher. Install python-Levenshtein to remove this warning\n",
      "  warnings.warn('Using slow pure-python SequenceMatcher. Install python-Levenshtein to remove this warning')\n"
     ]
    },
    {
     "name": "stdout",
     "output_type": "stream",
     "text": [
      "Loading library list...\n",
      "Done\n",
      "Approximately 4509850 rows in crsp.msf.\n",
      "Approximately 99086 rows in crsp.msenames.\n",
      "Approximately 61282 rows in comp.security.\n"
     ]
    },
    {
     "data": {
      "text/plain": [
       "True"
      ]
     },
     "execution_count": 1,
     "metadata": {},
     "output_type": "execute_result"
    }
   ],
   "source": [
    "import wrds\n",
    "import pandas as pd\n",
    "import numpy as np\n",
    "from fuzzywuzzy import fuzz\n",
    "\n",
    "###################\n",
    "# Connect to WRDS #\n",
    "###################\n",
    "conn = wrds.Connection()\n",
    "\n",
    "conn.describe_table(library=\"crsp\", table=\"msf\")\n",
    "conn.describe_table(library=\"crsp\", table=\"msenames\")\n",
    "conn.describe_table(library=\"comp\", table=\"security\")\n",
    "\n",
    "###########################\n",
    "# Method 1: Link by CUSIP #\n",
    "###########################\n",
    "\n",
    "# # 1.1 CRSP MSF: Get the list of PERMNO, DATE in CRSP Monthly Stock File\n",
    "# crsp_msf = conn.raw_sql(\"\"\"\n",
    "#                         select distinct permno, date,\n",
    "#                                        cusip\n",
    "#                         from crsp.msf\n",
    "#                         \"\"\")\n",
    "\n",
    "# # 1.2 CRSP MSENAMES: Get the list of PERMNO, NCUSIP, NAMEDT, NAMEENDT in CRSP Monthly Stock Event - Name History\n",
    "# crsp_msenames = conn.raw_sql(\"\"\"\n",
    "#                              select distinct permno, ncusip, namedt, nameendt,\n",
    "#                                              cusip, ticker, comnam\n",
    "#                              from crsp.msenames\n",
    "#                              where ncusip != ''\n",
    "#                              and shrcd in (10,11)\n",
    "#                              \"\"\")\n",
    "\n",
    "# # 1.3 COMPUSTAT SECURITY: Get the list of GVKEY, IID in COMPUSTAT SECURITY\n",
    "# comp = conn.raw_sql(\"\"\"\n",
    "#                     select distinct gvkey, iid, cusip,\n",
    "#                                     tic\n",
    "#                     from comp.security\n",
    "#                     where cusip != ''\n",
    "#                     and excntry='USA'\n",
    "#                     \"\"\")\n",
    "\n",
    "# # 1.4 Merge CRSP MSF and MSENAMES and keep relevant dates\n",
    "# crsp_m = crsp_msf.merge(crsp_msenames, on='permno')\n",
    "# crsp_m = crsp_m[(crsp_m.namedt <= crsp_m.date) & (crsp_m.date <= crsp_m.nameendt)]\n",
    "\n",
    "# # 1.5 Merge CRSP and COMPUSTAT by 8-digit cusip\n",
    "# # Compustat also provides historical CUSIP and TICKER in its Snapshot product,\n",
    "# # although historical identifiers are not available in their standard\n",
    "# # fundamental data feed.\n",
    "# comp['cusip8'] = comp.cusip.str[0:8]\n",
    "# link = comp.merge(crsp_m, left_on='cusip8', right_on='ncusip')\n",
    "# link = link[['permno', 'gvkey', 'date']]\n",
    "# link = link.sort_values(['permno', 'gvkey', 'date'])\n",
    "# link = link.reset_index(drop=True)\n",
    "\n",
    "# 1.1 - 1.5 all-in-one from SQL\n",
    "cusip_link = conn.raw_sql(\"\"\"\n",
    "                          select distinct a.permno, gvkey, date\n",
    "                          from\n",
    "                          crsp.msf as a,\n",
    "                          crsp.msenames as b,\n",
    "                          comp.security as c\n",
    "                          where\n",
    "                          b.ncusip != '' and shrcd in (10,11)\n",
    "                          and c.cusip != '' and excntry='USA'\n",
    "                          and a.permno = b.permno\n",
    "                          and NAMEDT <= date and date <= NAMEENDT\n",
    "                          and b.ncusip = substr(c.cusip,1,8)\n",
    "                          \"\"\")\n",
    "cusip_link = cusip_link.sort_values(['permno', 'gvkey', 'date'])\n",
    "cusip_link = cusip_link.reset_index(drop=True)\n",
    "\n",
    "# # Check if the merge method and sql all in one method equivalent:\n",
    "# cusip_link.equals(link) # Expect True"
   ]
  },
  {
   "cell_type": "markdown",
   "metadata": {},
   "source": [
    "[3] Compustat also provides historical CUSIP and TICKER in its Snapshot product, although historical identifiers are not available in their standard fundamental data feed.\n",
    "\n",
    "There are three major limitations to matching CRSP and Compustat data by CUSIP:\n",
    "\n",
    "1. Prior to 1968, CUSIP did not exist, so using CUSIP to match data is only reliable from 1968 onwards.\n",
    "2. CRSP only keeps historical CUSIP data when the securities are traded in major exchanges. If the most recent CUSIP in Compustat is from a regional or OTC market, CRSP and Compustat records will not match properly.\n",
    "3. CRSP and Compustat refresh their data with different frequencies. The most recent CUSIP in one database may not be synchronized with the most recent CUSIP in the other, which may, in turn, lead to mismatched data.\n",
    "\n",
    "### Merge by CCM Link table<br>\n",
    "\n",
    "<div class=\"rich-text\">\n",
    "    <p>The CRSP/Compustat Merged Database (CCM) is comprised of CRSP and Compustat data, together with the link and link-history references between these two databases. The key product of CCM is a permanent identifier linking table (PERMNO to GVKEY+IID), though CCM is often wrongly mistaken as the merged product of CRSP stock market data with Compustat accounting data. From an end user’s perspective, CCM only adds a link of PERMNO and PERMCO to the Compustat database, so that Compustat items can be searched by CRSP identifiers.</p><p>In the link table (Ccmxpf_linktable), there are a few indicators of the quality of matching:</p><p><strong>LinkType:</strong> A code describing the connection between the CRSP and Compustat data.</p><ul><li><strong>LU:</strong> Link research complete. Standard connection between databases.</li><li><strong>LC:</strong> Non-researched link to issue by CUSIP.</li><li><strong>LD:</strong> Duplicate link to a security. Another GVKEY/IID is a better link to that CRSP record.</li></ul><p><strong>LinkPrim:</strong> Primary issue indicator for the link.</p><ul><li><strong>P:</strong> Primary, identified by Compustat in monthly security data.</li><li><strong>C</strong>: Primary, assigned by CRSP to resolve ranges of overlapping or missing primary markers from Compustat in order to produce one primary security throughout the company history.</li></ul><p><strong>UsedFlag:</strong> Flag marking whether the link is used in creating the composite record.</p><ul><li><strong>1:</strong> The link is applicable to the selected PERMNO and used to identify ranges of Compustat data from a GVKEY used to create a composite GVKEY record corresponding to the PERMNO.</li><li><strong>-1:</strong> The link is informational, indirectly related to the PERMNO, and not used.</li><li><strong>USEDFLAG:</strong> Legacy indicator kept for programing and data consistency at WRDS.</li></ul><p><strong>LINKDT:</strong> The first effective date of the link.<br><strong>LINKENDDT:</strong> The last date when the link is valid. For a currently valid link, LINKENDDT is set to a NULL value (.E in SAS format).</p><p></p><p>The following sample Python code is used for matching CRSP and Compustat at the security level using the CCM Linktable:</p><p></p>\n",
    "</div>"
   ]
  },
  {
   "cell_type": "code",
   "execution_count": 2,
   "metadata": {},
   "outputs": [],
   "source": [
    "####################################\n",
    "# Method 2: Link by CCM Link Table #\n",
    "####################################\n",
    "\n",
    "# 2.1 all-in-one from SQL\n",
    "ccm_link = conn.raw_sql(\"\"\"\n",
    "                        select distinct a.permno, gvkey, date\n",
    "                        from\n",
    "                        crsp.msf as a,\n",
    "                        crsp.msenames as b,\n",
    "                        crsp.Ccmxpf_linktable as c\n",
    "                        where\n",
    "                        shrcd in (10,11)\n",
    "                        and linktype in ('LU','LC')\n",
    "                        and LINKPRIM in ('P','C')\n",
    "                        and USEDFLAG=1\n",
    "                        and a.permno = b.permno and b.permno = lpermno\n",
    "                        and NAMEDT <= date and date <= NAMEENDT\n",
    "                        and linkdt <= date and date <= coalesce(linkenddt, current_date)\n",
    "                        \"\"\")"
   ]
  },
  {
   "cell_type": "markdown",
   "metadata": {},
   "source": [
    "The following graph shows the number of companies for a stock-level match used by the CCM Link table as well as a match by CUSIP from 1950 to 2014. Only stocks having CRSP share code 10 or 11 and companies having non-missing Asset or Sales Items from Compustat were used in this match. Due to the matching limitations using CUSIP as previously described, CCM always provides greater numbers of matched results, with the two results converging in more recent years.\n",
    "\n",
    "Sample Python code (for use in a Jupyter Notebook) is provided above the graph."
   ]
  },
  {
   "cell_type": "code",
   "execution_count": 3,
   "metadata": {},
   "outputs": [
    {
     "data": {
      "text/plain": [
       "<matplotlib.axes._subplots.AxesSubplot at 0x127ac1400>"
      ]
     },
     "execution_count": 3,
     "metadata": {},
     "output_type": "execute_result"
    },
    {
     "data": {
      "image/png": "[encoded data removed]",
      "text/plain": [
       "<Figure size 432x288 with 1 Axes>"
      ]
     },
     "metadata": {
      "needs_background": "light"
     },
     "output_type": "display_data"
    }
   ],
   "source": [
    "##################################\n",
    "# Compare Method 1 and 2 #\n",
    "##################################\n",
    "\n",
    "# Get Companies with non-missing Asset or Sales Item\n",
    "funda = conn.raw_sql(\"\"\"\n",
    "                     select distinct gvkey, datadate,\n",
    "                     sale, at\n",
    "                     from\n",
    "                     comp.funda\n",
    "                     where\n",
    "                     sale > 0 or at > 0\n",
    "                     \"\"\")\n",
    "\n",
    "funda = funda.sort_values(['gvkey', 'datadate']).reset_index(drop=True)\n",
    "\n",
    "# Create 'year' variables from dates\n",
    "funda['year'] = pd.to_datetime(funda.datadate).dt.year\n",
    "ccm_link['year'] = pd.to_datetime(ccm_link.date).dt.year\n",
    "cusip_link['year'] = pd.to_datetime(cusip_link.date).dt.year\n",
    "\n",
    "# Use CCM LINK to Match on Calendar Year Base\n",
    "ccm_l1 = pd.merge(ccm_link, funda, on=['gvkey', 'year'])\n",
    "ccm_l2 = pd.merge(ccm_link, funda, on=['gvkey', 'year']).groupby('year')['gvkey'].nunique()\n",
    "\n",
    "# Use CUSIP LINK to Match on Calendar Year Base\n",
    "cusip_l1 = pd.merge(cusip_link, funda, on=['gvkey', 'year'])\n",
    "cusip_l2 = pd.merge(cusip_link, funda, on=['gvkey', 'year']).groupby('year')['gvkey'].nunique()\n",
    "\n",
    "merge_l = pd.merge(ccm_l2, cusip_l2, on=['year'], how='left', suffixes=('_ccm', '_cusip'))\n",
    "\n",
    "merge_l.plot(kind='area', grid=True, stacked=False)"
   ]
  },
  {
   "cell_type": "markdown",
   "metadata": {},
   "source": [
    "CCM vs. CUSIP-Matched CRSP and Compustat companies\n",
    "\n",
    "It is worth noting that one company may have multiple classes of common equities. And at the company level, CRSP and Compustat occasionally disagree on the surviving company after merges. In these cases, a researcher could disagree with the stand taken by the CCM set in resolving the disagreement or ambiguity about a surviving company."
   ]
  },
  {
   "attachments": {},
   "cell_type": "markdown",
   "metadata": {},
   "source": [
    "## Fama and French Application<br>\n",
    "\n",
    "<div class=\"rich-text\">\n",
    "    <p>From a research perspective, merging two databases may require not only the permanent identifier to be matched but also time to be aligned. Fama and French (1993) provide a coherent solution for how to handle the time dimension. Public firms in the U.S. are allowed a certain amount of time in which to report financial statements to the SEC after their fiscal period ends, which can differ from company to company and year to year.</p><p>For example, prior to 2003, most public companies were allowed to file the annual meeting report (10K) within 90 days of fiscal year-end, while after 2005 certain large companies were required to file their 10K within 60 days of fiscal year-end. In addition, Compustat considers any fiscal year ending from January to May during the calendar year to to be fiscal year t-1. For example, the sales figure reported for March 31, 2008 would be considered as a sales figure for fiscal year 2007.</p><p>To make sure accounting information is publicly available when a new portfolio is formatted, Fama and French (1993) chose the last trading date in June as the portfolio construction date, while using the Market Capitalization for the previous year end, to ensure both data availability and consistency of their empirical analysis.</p><p>The following figure demonstrates the logic of time dimension alignment in Fama and French (1993). A more detailed description of this strategy, as well as a reproduction of the methodology, is documented in <a href=\"https://wrds-www.wharton.upenn.edu/pages/support/applications/risk-factors-and-industry-benchmarks/fama-french-factors/\">Fama-French Factors</a>.</p>\n",
    "</div>\n",
    "\n",
    "![Fama and French](https://wrds-www.wharton.upenn.edu/media/images/market-graphic-crsp-comp.width-800.png)"
   ]
  },
  {
   "cell_type": "markdown",
   "metadata": {},
   "source": [
    "## Reference\n",
    "Merging CRSP and Compustat Data. https://wrds-www.wharton.upenn.edu/pages/support/applications/linking-databases/linking-crsp-and-compustat/"
   ]
  }
 ],
 "metadata": {
  "kernelspec": {
   "display_name": "Python 3",
   "language": "python",
   "name": "python3"
  },
  "language_info": {
   "codemirror_mode": {
    "name": "ipython",
    "version": 3
   },
   "file_extension": ".py",
   "mimetype": "text/x-python",
   "name": "python",
   "nbconvert_exporter": "python",
   "pygments_lexer": "ipython3",
   "version": "3.6.10"
  }
 },
 "nbformat": 4,
 "nbformat_minor": 2
}
