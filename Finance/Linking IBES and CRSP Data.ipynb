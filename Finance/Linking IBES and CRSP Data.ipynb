{
 "cells": [
  {
   "cell_type": "markdown",
   "metadata": {},
   "source": [
    "# Linking IBES and CRSP Data\n",
    "<p class=\"lead\">IBES data with broker estimates of company earnings and CRSP data with the corresponding stock prices are often combined by linking common identifiers--particularly CUSIPS--in both datasets. This notebook explains a \"Linking Table\" approach for merging IBES and CRSP data.</p>\n",
    "\n",
    "## Introduction\n",
    "Combining broker estimates of company earnings and other financials in the IBES database with stock returns and other items in the CRSP Stock files requires knowledge of both data sets and how they use different company and security identification codes. Both databases use primary identifiers (IBES TICKER and CRSP PERMNO) that are unique in the sense that a single primary identifier is associated with each company or security. This uniqueness feature makes querying and organizing data from these sets straightforward (as opposed to using non-unique company names, exchange tickers or CUSIPs as identifiers). However, because these primary identifiers are specific to each database, merging or combining the IBES and CRSP sets can not be accomplished in a simple and direct manner.\n",
    "\n",
    "In order to merge IBES data with CRSP data, the best approach is to use common secondary identifiers to construct a ‘linking table’ that makes a one-to-one correspondence between the two sets of primary identifiers. This notebook explains the ‘linking table’ approach, which can be applied to datasets other than IBES and CRSP.\n",
    "\n",
    "## Identifier Files\n",
    "Both the CRSP and IBES datasets have name or identifier files (ID for IBES Detail and IDSUM for IBES Summary data, and STOCKNAMES for CRSP Stock data) that contain all companies in each dataset and provide a map between their primary identifiers (e.g. IBES TICKER and CRSP PERMNO) and all other historical identifiers (e.g. CUSIP, Exchange Ticker). It is essential to use these name files in order to construct the link table.\n",
    "\n",
    "### IBES IDs\n",
    "The IBES identifier files track changes in historical company identifier information (including company name, official exchange ticker symbol, and CUSIP) for the entire IBES universe of firms. These identifier files are structured to show more than one exchange Ticker or CUSIP for a company (in the appropriate cases), which increases the likelihood of a correct link between the IBES and CRSP sets. The start date (SDATES) for each identifying record is also provided.\n",
    "\n",
    "As of the IBES update in April 2006, the main identifier files in IBES are:\n",
    "\n",
    "- Detail History name file: ID File: which contains 23,808 unique US and Canadian company IBES tickers\n",
    "- Summary History name file: IDSUM File: which contains 15,576 unique US company IBES tickers\n",
    "\n",
    "An important difference between ID and IDSUM is the coverage and identification of Canadian companies. While USFIRM dummy variable clearly designates US companies in IDSUM, the detail history ID file contains duplicate records for each Canadian company, with one record for USFIRM= 1 and another record for USFIRM= 0. This is due to IBES’ inclusion of the Canadian estimates in both the U.S. source file and the International source file. Therefore, it is easier to identify U.S. companies in the IDSUM set.\n",
    "\n",
    "Since CRSP only tracks securities that are traded in major American exchanges, non-US companies should be eliminated from IBES sample before starting with the matching process. For this reason, it is more appropriate to use IDSUM in linking with CRSP. (For more information about IBES datasets, (See the IBES Manual, IBES Overview, and IBES dataset list on WRDS).\n",
    "\n",
    "### CRSP IDs\n",
    "CRSP STOCKNAMES file provides a map between CRSP permanent identifiers and all historical CUSIPs, Company Names, and Exchange Tickers, along with their effective date ranges. The following CRSP variables will be used in linking IBES with CRSP:\n",
    "\n",
    "1. PERMNO is the unique identifier for CRSP securities. Similar to IBES TICKER, PERMNO does not change over time even if the company changes its name, CUSIP and exchange ticker.\n",
    "\n",
    "2. TICKER is the exchange ticker in CRSP data, and it is analogous to OFTIC in IBES. However, TICKER may be a truncated version of the actual trading symbol when it has additional share class character(s) or more than 5 characters. (For more information on the CRSP exchange ticker, see the CRSP Manual page 104.)\n",
    "\n",
    "3. COMNAM is the company name in CRSP at a specific point in time.\n",
    "\n",
    "4. NCUSIP is the 8-digit historical CUSIP in CRSP data. NCUSIP is analogous to IBES’ CUSIP. CRSP also has another header variable named “CUSIP” which should not be used in linking with IBES, as “CUSIP” only reflects the most recent company CUSIP for the entire company time series.\n",
    "\n",
    "5. NAMEDT and NAMEENDDT are the first and last effective dates of each set of name structure, which consists of CUSIP, Company Name, Exchange Code, Exchange Ticker, Share Class, and SIC Code. Each PERMNO has at least one name structure in STOCKNAMES file.\n",
    "\n",
    "## Overview of Linking Logic\n",
    "We conduct two layers of linking between IBES and CRSP database.\n",
    "\n",
    "### CUSIP Link\n",
    "\n",
    "CRSP NCUSIP and IBES CUSIP are both historical CUSIP for companies. We turn to entire 8-digit CUSIP as the initial mapping link. In order to enhance the linking accuracy, date ranges from both databases (NAMEDT and NAMEENDDT for CRSP, and SDATES for IBES) are also factored into the algorithm.\n",
    "\n",
    "### GVKEY Link\n",
    "\n",
    "Among the unmatched companies using CUSIP, a second layer of matching is conducted using Compustat.SECURITY table. This table contains the mapping information between Compustat's permanent identifiers (GVKEY, IID) and IBES Ticker (IBTIC). Utilizing the linkage here as well as the linking between GVKEY+IID and CRSP PERMNO through CCM's linking table, we can then link the IBES Ticker directly to CRSP Permno.\n",
    "\n",
    "The summary flow is as the followings:\n",
    "\n",
    "IBES Ticker <--(COMP.SECURITY) --> COMP GVKEY+IID \n",
    "\n",
    "<--(CRSP.CCMXPF_LINKTABLE) --> CRSP PERMNO\n",
    "\n",
    "### Additional Control by Comparing Company Name String\n",
    "\n",
    "On top of the linkage established using the two methods described above, an additional layer of quality check is imposed by comparing the string of company names from CRSP (COMNAM) and IBES (CNAME). While there are several string comparison packages available through Python, in this code we use FuzzyWuzzy for the purpose of company name matching. Users can easily swap this package with any other package of choice (e.g. jellyfish).\n",
    "\n",
    "FuzzyWuzzy provides several methods for calculating the similarities between strings. We adopt the tokenized method of token_set_ratio in this code.\n",
    "\n",
    "The output of the string comparison is a measure of similarity between the two input strings: 100 implies that the two company names are the same. Below are some examples of the string comparison between IBES' CNAME and CRSP's COMNAM variable."
   ]
  },
  {
   "cell_type": "code",
   "execution_count": null,
   "metadata": {},
   "outputs": [],
   "source": [
    "#!pip install fuzzywuzzy\n",
    "\n",
    "from fuzzywuzzy import fuzz"
   ]
  },
  {
   "cell_type": "code",
   "execution_count": 5,
   "metadata": {},
   "outputs": [
    {
     "data": {
      "text/plain": [
       "100"
      ]
     },
     "execution_count": 5,
     "metadata": {},
     "output_type": "execute_result"
    }
   ],
   "source": [
    "fuzz.token_set_ratio('AMAZON.COM INC',  'AMAZON COM INC')"
   ]
  },
  {
   "cell_type": "code",
   "execution_count": 6,
   "metadata": {},
   "outputs": [
    {
     "data": {
      "text/plain": [
       "51"
      ]
     },
     "execution_count": 6,
     "metadata": {},
     "output_type": "execute_result"
    }
   ],
   "source": [
    "fuzz.token_set_ratio('1ST FED BCP DEL',  'FIRST FEDERAL BANCORP DE')"
   ]
  },
  {
   "cell_type": "code",
   "execution_count": 10,
   "metadata": {},
   "outputs": [
    {
     "data": {
      "text/plain": [
       "57"
      ]
     },
     "execution_count": 10,
     "metadata": {},
     "output_type": "execute_result"
    }
   ],
   "source": [
    "fuzz.token_set_ratio('INTERNATIONAL BUSINESS MACHS COR', 'INTL BUS MACH')"
   ]
  },
  {
   "cell_type": "markdown",
   "metadata": {},
   "source": [
    "## ICLINK Python Code and Discussion"
   ]
  },
  {
   "cell_type": "code",
   "execution_count": 11,
   "metadata": {},
   "outputs": [
    {
     "name": "stdout",
     "output_type": "stream",
     "text": [
      "Loading library list...\n",
      "Done\n"
     ]
    }
   ],
   "source": [
    "#####################################\n",
    "# ICLINK: Link CRSP and IBES        #\n",
    "# Sep 2019                          #\n",
    "#####################################\n",
    "\n",
    "# This program replicates the SAS macro ICLINK \n",
    "# to create a linking table between CRSP and IBES\n",
    "# Output is a score reflecting the quality of the link\n",
    "# Score = 0 (best link) to Score = 6 (worst link)\n",
    "# \n",
    "# More explanation on score system:\n",
    "# - 0: BEST match: using (cusip, cusip dates and company names)       \n",
    "#          or (exchange ticker, company names and 6-digit cusip)     \n",
    "# - 1: Cusips and cusip dates match but company names do not match    \n",
    "# - 2: Cusips and company names match but cusip dates do not match    \n",
    "# - 3: Cusips match but cusip dates and company names do not match    \n",
    "# - 4: tickers and 6-digit cusips match but company names do not match   \n",
    "# - 5: tickers and company names match but 6-digit cusips do not match        \n",
    "# - 6: tickers match but company names and 6-digit cusips do not match        \n",
    "\n",
    "import wrds\n",
    "import pandas as pd\n",
    "import numpy as np\n",
    "from fuzzywuzzy import fuzz\n",
    "\n",
    "###################\n",
    "# Connect to WRDS #\n",
    "###################\n",
    "conn=wrds.Connection()"
   ]
  },
  {
   "cell_type": "markdown",
   "metadata": {},
   "source": [
    "### Step 1: Link by CUSIP"
   ]
  },
  {
   "cell_type": "code",
   "execution_count": 12,
   "metadata": {},
   "outputs": [],
   "source": [
    "#########################\n",
    "# Step 1: Link by CUSIP #\n",
    "#########################\n",
    "\n",
    "# 1.1 IBES: Get the list of IBES Tickers for US firms in IBES\n",
    "_ibes1 = conn.raw_sql(\"\"\"\n",
    "                      select ticker, cusip, cname, sdates from ibes.id\n",
    "                      where usfirm=1 and cusip != ''\n",
    "                      \"\"\")\n",
    "\n",
    "# Create first and last 'start dates' for a given cusip\n",
    "# Use agg min and max to find the first and last date per group\n",
    "# then rename to fdate and ldate respectively\n",
    "\n",
    "_ibes1_date = _ibes1.groupby(['ticker','cusip']).sdates.agg(['min', 'max'])\\\n",
    ".reset_index().rename(columns={'min':'fdate', 'max':'ldate'})\n",
    "\n",
    "# merge fdate ldate back to _ibes1 data\n",
    "_ibes2 = pd.merge(_ibes1, _ibes1_date,how='left', on =['ticker','cusip'])\n",
    "_ibes2 = _ibes2.sort_values(by=['ticker','cusip','sdates'])\n",
    "\n",
    "# keep only the most recent company name\n",
    "# determined by having sdates = ldate\n",
    "_ibes2 = _ibes2.loc[_ibes2.sdates == _ibes2.ldate].drop(['sdates'], axis=1)\n",
    "\n",
    "# 1.2 CRSP: Get all permno-ncusip combinations\n",
    "_crsp1 = conn.raw_sql(\"\"\"\n",
    "                      select permno, ncusip, comnam, namedt, nameenddt\n",
    "                      from crsp.stocknames\n",
    "                      where ncusip != ''\n",
    "                      \"\"\")\n",
    "\n",
    "# first namedt\n",
    "_crsp1_fnamedt = _crsp1.groupby(['permno','ncusip']).namedt.min().reset_index()\n",
    "\n",
    "# last nameenddt\n",
    "_crsp1_lnameenddt = _crsp1.groupby(['permno','ncusip']).nameenddt.max().reset_index()\n",
    "\n",
    "# merge both \n",
    "_crsp1_dtrange = pd.merge(_crsp1_fnamedt, _crsp1_lnameenddt, \\\n",
    "                          on = ['permno','ncusip'], how='inner')\n",
    "\n",
    "# replace namedt and nameenddt with the version from the dtrange\n",
    "_crsp1 = _crsp1.drop(['namedt'],axis=1).rename(columns={'nameenddt':'enddt'})\n",
    "_crsp2 = pd.merge(_crsp1, _crsp1_dtrange, on =['permno','ncusip'], how='inner')\n",
    "\n",
    "# keep only most recent company name\n",
    "_crsp2 = _crsp2.loc[_crsp2.enddt ==_crsp2.nameenddt].drop(['enddt'], axis=1)\n",
    "\n",
    "# 1.3 Create CUSIP Link Table\n",
    "\n",
    "# Link by full cusip, company names and dates\n",
    "_link1_1 = pd.merge(_ibes2, _crsp2, how='inner', left_on='cusip', right_on='ncusip')\\\n",
    ".sort_values(['ticker','permno','ldate'])\n",
    "\n",
    "# Keep link with most recent company name\n",
    "_link1_1_tmp = _link1_1.groupby(['ticker','permno']).ldate.max().reset_index()\n",
    "_link1_2 = pd.merge(_link1_1, _link1_1_tmp, how='inner', on =['ticker', 'permno', 'ldate'])\n",
    "\n",
    "\n",
    "# Calculate name matching ratio using FuzzyWuzzy\n",
    "\n",
    "# Note: fuzz ratio = 100 -> match perfectly\n",
    "#       fuzz ratio = 0   -> do not match at all\n",
    "\n",
    "# Comment: token_set_ratio is more flexible in matching the strings:\n",
    "# fuzz.token_set_ratio('AMAZON.COM INC',  'AMAZON COM INC')\n",
    "# returns value of 100\n",
    "\n",
    "# fuzz.ratio('AMAZON.COM INC',  'AMAZON COM INC')\n",
    "# returns value of 93\n",
    "\n",
    "_link1_2['name_ratio'] = _link1_2.apply(lambda x: fuzz.token_set_ratio(x.comnam, x.cname), axis=1)\n",
    "\n",
    "# Note on parameters:\n",
    "# The following parameters are chosen to mimic the SAS macro %iclink\n",
    "# In %iclink, name_dist < 30 is assigned score = 0\n",
    "# where name_dist=30 is roughly 90% percentile in total distribution\n",
    "# and higher name_dist means more different names.\n",
    "# In name_ratio, I mimic this by choosing 10% percentile as cutoff to assign\n",
    "# score = 0\n",
    "\n",
    "# 10% percentile of the company name distance\n",
    "name_ratio_p10 = _link1_2.name_ratio.quantile(0.10)\n",
    "\n",
    "# Function to assign score for companies matched by:\n",
    "# full cusip and passing name_ratio\n",
    "# or meeting date range requirement\n",
    "\n",
    "def score1(row):\n",
    "    if (row['fdate']<=row['nameenddt']) & (row['ldate']>=row['namedt']) & (row['name_ratio'] >= name_ratio_p10):\n",
    "        score = 0\n",
    "    elif (row['fdate']<=row['nameenddt']) & (row['ldate']>=row['namedt']):\n",
    "        score = 1\n",
    "    elif row['name_ratio'] >= name_ratio_p10:\n",
    "        score = 2\n",
    "    else:\n",
    "        score = 3\n",
    "    return score\n",
    "\n",
    "# assign size portfolio\n",
    "_link1_2['score']=_link1_2.apply(score1, axis=1)\n",
    "_link1_2 = _link1_2[['ticker','permno','cname','comnam','name_ratio','score']]\n",
    "_link1_2 = _link1_2.drop_duplicates()"
   ]
  },
  {
   "cell_type": "markdown",
   "metadata": {},
   "source": [
    "### Step 2: Link by Ticker "
   ]
  },
  {
   "cell_type": "code",
   "execution_count": 13,
   "metadata": {},
   "outputs": [],
   "source": [
    "##########################\n",
    "# Step 2: Link by TICKER #\n",
    "##########################\n",
    "\n",
    "# Find links for the remaining unmatched cases using Exchange Ticker \n",
    "\n",
    "# Identify remaining unmatched cases \n",
    "_nomatch1 = pd.merge(_ibes2[['ticker']], _link1_2[['permno','ticker']], on='ticker', how='left')\n",
    "_nomatch1 = _nomatch1.loc[_nomatch1.permno.isnull()].drop(['permno'], axis=1).drop_duplicates()\n",
    "\n",
    "# Add IBES identifying information\n",
    "\n",
    "ibesid = conn.raw_sql(\"\"\" select ticker, cname, oftic, sdates, cusip from ibes.id \"\"\")\n",
    "ibesid = ibesid.loc[ibesid.oftic.notna()]\n",
    "\n",
    "_nomatch2 = pd.merge(_nomatch1, ibesid, how='inner', on=['ticker'])\n",
    "\n",
    "# Create first and last 'start dates' for Exchange Tickers\n",
    "# Label date range variables and keep only most recent company name\n",
    "\n",
    "_nomatch3 = _nomatch2.groupby(['ticker', 'oftic']).sdates.agg(['min', 'max'])\\\n",
    ".reset_index().rename(columns={'min':'fdate', 'max':'ldate'})\n",
    "\n",
    "_nomatch3 = pd.merge(_nomatch2, _nomatch3, how='left', on=['ticker','oftic'])\n",
    "\n",
    "_nomatch3 = _nomatch3.loc[_nomatch3.sdates == _nomatch3.ldate]\n",
    "\n",
    "# Get entire list of CRSP stocks with Exchange Ticker information\n",
    "\n",
    "_crsp_n1 = conn.raw_sql(\"\"\" select ticker, comnam, permno, ncusip, namedt, nameenddt\n",
    "                            from crsp.stocknames \"\"\")\n",
    "\n",
    "_crsp_n1 = _crsp_n1.loc[_crsp_n1.ticker.notna()].sort_values(by=['permno','ticker','namedt'])\n",
    "\n",
    "# Arrange effective dates for link by Exchange Ticker\n",
    "\n",
    "_crsp_n1_namedt = _crsp_n1.groupby(['permno','ticker']).namedt.min().reset_index().rename(columns={'min':'namedt'})\n",
    "_crsp_n1_nameenddt = _crsp_n1.groupby(['permno','ticker']).nameenddt.max().reset_index().rename(columns={'max':'nameenddt'})\n",
    "\n",
    "_crsp_n1_dt = pd.merge(_crsp_n1_namedt, _crsp_n1_nameenddt, how = 'inner', on=['permno','ticker'])\n",
    "\n",
    "_crsp_n1 = _crsp_n1.rename(columns={'namedt': 'namedt_ind', 'nameenddt':'nameenddt_ind'})\n",
    "\n",
    "_crsp_n2 = pd.merge(_crsp_n1, _crsp_n1_dt, how ='left', on = ['permno','ticker'])\n",
    "\n",
    "_crsp_n2 = _crsp_n2.rename(columns={'ticker':'crsp_ticker'})\n",
    "_crsp_n2 = _crsp_n2.loc[_crsp_n2.nameenddt_ind == _crsp_n2.nameenddt].drop(['namedt_ind', 'nameenddt_ind'], axis=1)\n",
    "\n",
    "# Merge remaining unmatched cases using Exchange Ticker \n",
    "# Note: Use ticker date ranges as exchange tickers are reused overtime\n",
    "\n",
    "_link2_1 = pd.merge(_nomatch3, _crsp_n2, how='inner', left_on=['oftic'], right_on=['crsp_ticker'])\n",
    "_link2_1 = _link2_1.loc[(_link2_1.ldate>=_link2_1.namedt) & (_link2_1.fdate<=_link2_1.nameenddt)]\n",
    "\n",
    "\n",
    "# Score using company name using 6-digit CUSIP and company name spelling distance\n",
    "_link2_1['name_ratio'] = _link2_1.apply(lambda x: fuzz.token_set_ratio(x.comnam, x.cname), axis=1)\n",
    "\n",
    "_link2_2 = _link2_1\n",
    "_link2_2['cusip6'] = _link2_2.apply(lambda x: x.cusip[:6], axis=1)\n",
    "_link2_2['ncusip6'] = _link2_2.apply(lambda x: x.ncusip[:6], axis=1)\n",
    "\n",
    "# Score using company name using 6-digit CUSIP and company name spelling distance\n",
    "\n",
    "def score2(row):\n",
    "    if (row['cusip6']==row['ncusip6']) & (row['name_ratio'] >= name_ratio_p10):\n",
    "        score = 0\n",
    "    elif (row['cusip6']==row['ncusip6']):\n",
    "        score = 4\n",
    "    elif row['name_ratio'] >= name_ratio_p10:\n",
    "        score = 5\n",
    "    else:\n",
    "        score = 6\n",
    "    return score\n",
    "\n",
    "# assign size portfolio\n",
    "_link2_2['score']=_link2_2.apply(score2, axis=1)\n",
    "\n",
    "# Some companies may have more than one TICKER-PERMNO link\n",
    "# so re-sort and keep the case (PERMNO & Company name from CRSP)\n",
    "# that gives the lowest score for each IBES TICKER \n",
    "\n",
    "_link2_2 = _link2_2[['ticker','permno','cname','comnam', 'name_ratio', 'score']].sort_values(by=['ticker','score'])\n",
    "_link2_2_score = _link2_2.groupby(['ticker']).score.min().reset_index()\n",
    "\n",
    "_link2_3 = pd.merge(_link2_2, _link2_2_score, how='inner', on=['ticker', 'score'])\n",
    "_link2_3 = _link2_3[['ticker','permno','cname','comnam','score']].drop_duplicates()"
   ]
  },
  {
   "cell_type": "markdown",
   "metadata": {},
   "source": [
    "### Step 3: Combine the output from both linking procedures. Store the output data for future usage. "
   ]
  },
  {
   "cell_type": "code",
   "execution_count": 14,
   "metadata": {},
   "outputs": [],
   "source": [
    "#####################################\n",
    "# Step 3: Finalize LInks and Scores #\n",
    "#####################################\n",
    "\n",
    "iclink = _link1_2.append(_link2_3)\n",
    "\n",
    "# Storing iclink for other program usage\n",
    "import pickle as pkl\n",
    "\n",
    "with open('iclink.pkl', 'wb') as f:\n",
    "    pkl.dump(iclink, f)"
   ]
  },
  {
   "cell_type": "markdown",
   "metadata": {},
   "source": [
    "## Output Analysis\n",
    "\n",
    "The figure below illustrates the distribution of the SCORE variable in the final ICLINK output.\n",
    "\n",
    "Note that the SCORE levels are lower for better matches and higher for links that may need further checking before using the results to merge CRSP and IBES data. In computing the score, a CUSIP match is considered better than a TICKER match. The score also includes a penalty for differences in company names, CNAME in IBES and COMNAM in CRSP.\n",
    "\n",
    "The SCORE levels are:\n",
    "\n",
    "- 0 is the BEST match\n",
    "\n",
    "- 1 is the score for cases with matching CUSIPs and CUSIP dates but with substantially different company names\n",
    "\n",
    "- 2 is the score for cases with matching CUSIPs and company names but with nonintersecting CUSIP dates\n",
    "\n",
    "- 3 is the score for CUSIP matches that have non-intersecting CUSIP dates and substantially different company names\n",
    "\n",
    "- 4 is the score for cases with matching exchange tickers and 6-digit CUSIPs but with substantially different company names\n",
    "\n",
    "- 5 is the score for cases with matching exchange tickers and company names but with different 6-digit CUSIPs\n",
    "\n",
    "- 6 is the score for cases with matching exchange tickers but with substantially different company names and 6-digit CUSIPs"
   ]
  },
  {
   "cell_type": "code",
   "execution_count": 25,
   "metadata": {},
   "outputs": [
    {
     "data": {
      "image/png": "[encoded data removed]",
      "text/plain": [
       "<matplotlib.figure.Figure at 0x123dd0cf8>"
      ]
     },
     "metadata": {},
     "output_type": "display_data"
    }
   ],
   "source": [
    "import matplotlib.pyplot as plt\n",
    "plt.hist(iclink.score, bins=6)\n",
    "plt.title('Score Distribution')\n",
    "plt.grid()\n",
    "plt.show()"
   ]
  },
  {
   "cell_type": "markdown",
   "metadata": {},
   "source": [
    "The underlying variable used for assigning SCORE, NAME_SIMILARITY, follows a distribution from 0 (Least Similar) - 100 (Most Similar). And the distribution of this variable is shown below."
   ]
  },
  {
   "cell_type": "code",
   "execution_count": 44,
   "metadata": {},
   "outputs": [
    {
     "data": {
      "image/png": "[encoded data removed]",
      "text/plain": [
       "<matplotlib.figure.Figure at 0x125544be0>"
      ]
     },
     "metadata": {},
     "output_type": "display_data"
    }
   ],
   "source": [
    "plt.hist(iclink.name_ratio.dropna())\n",
    "plt.title('Name Ratio Distribution')\n",
    "plt.grid()\n",
    "plt.show()"
   ]
  },
  {
   "cell_type": "markdown",
   "metadata": {},
   "source": [
    "And finally, below is a subset of the final ICLINK dataframe to provide a more intuitive understanding of the output."
   ]
  },
  {
   "cell_type": "code",
   "execution_count": 58,
   "metadata": {},
   "outputs": [
    {
     "data": {
      "text/html": [
       "<div>\n",
       "<style scoped>\n",
       "    .dataframe tbody tr th:only-of-type {\n",
       "        vertical-align: middle;\n",
       "    }\n",
       "\n",
       "    .dataframe tbody tr th {\n",
       "        vertical-align: top;\n",
       "    }\n",
       "\n",
       "    .dataframe thead th {\n",
       "        text-align: right;\n",
       "    }\n",
       "</style>\n",
       "<table border=\"1\" class=\"dataframe\">\n",
       "  <thead>\n",
       "    <tr style=\"text-align: right;\">\n",
       "      <th></th>\n",
       "      <th>cname</th>\n",
       "      <th>comnam</th>\n",
       "      <th>name_ratio</th>\n",
       "      <th>permno</th>\n",
       "      <th>score</th>\n",
       "      <th>ticker</th>\n",
       "    </tr>\n",
       "  </thead>\n",
       "  <tbody>\n",
       "    <tr>\n",
       "      <th>2166</th>\n",
       "      <td>BANKAMERICA CA</td>\n",
       "      <td>BANKAMERICA CORP</td>\n",
       "      <td>88.0</td>\n",
       "      <td>58827.0</td>\n",
       "      <td>0</td>\n",
       "      <td>BAC</td>\n",
       "    </tr>\n",
       "    <tr>\n",
       "      <th>5207</th>\n",
       "      <td>DELL INC</td>\n",
       "      <td>DELL INC</td>\n",
       "      <td>100.0</td>\n",
       "      <td>11081.0</td>\n",
       "      <td>0</td>\n",
       "      <td>DELL</td>\n",
       "    </tr>\n",
       "    <tr>\n",
       "      <th>6793</th>\n",
       "      <td>1ST FED BCP DEL</td>\n",
       "      <td>FIRST FEDERAL BANCORP DE</td>\n",
       "      <td>51.0</td>\n",
       "      <td>75161.0</td>\n",
       "      <td>3</td>\n",
       "      <td>FFS</td>\n",
       "    </tr>\n",
       "    <tr>\n",
       "      <th>9017</th>\n",
       "      <td>IBM</td>\n",
       "      <td>INTERNATIONAL BUSINESS MACHS CO</td>\n",
       "      <td>12.0</td>\n",
       "      <td>12490.0</td>\n",
       "      <td>1</td>\n",
       "      <td>IBM</td>\n",
       "    </tr>\n",
       "    <tr>\n",
       "      <th>11894</th>\n",
       "      <td>MICROSOFT</td>\n",
       "      <td>MICROSOFT CORP</td>\n",
       "      <td>100.0</td>\n",
       "      <td>10107.0</td>\n",
       "      <td>0</td>\n",
       "      <td>MSFT</td>\n",
       "    </tr>\n",
       "  </tbody>\n",
       "</table>\n",
       "</div>"
      ],
      "text/plain": [
       "                 cname                           comnam  name_ratio   permno  \\\n",
       "2166    BANKAMERICA CA                 BANKAMERICA CORP        88.0  58827.0   \n",
       "5207          DELL INC                         DELL INC       100.0  11081.0   \n",
       "6793   1ST FED BCP DEL         FIRST FEDERAL BANCORP DE        51.0  75161.0   \n",
       "9017               IBM  INTERNATIONAL BUSINESS MACHS CO        12.0  12490.0   \n",
       "11894        MICROSOFT                   MICROSOFT CORP       100.0  10107.0   \n",
       "\n",
       "       score ticker  \n",
       "2166       0    BAC  \n",
       "5207       0   DELL  \n",
       "6793       3    FFS  \n",
       "9017       1    IBM  \n",
       "11894      0   MSFT  "
      ]
     },
     "execution_count": 58,
     "metadata": {},
     "output_type": "execute_result"
    }
   ],
   "source": [
    "iclink[iclink.ticker.isin(['BAC', 'DELL', 'FFS', 'IBM', 'MSFT'])]"
   ]
  }
 ],
 "metadata": {
  "kernelspec": {
   "display_name": "Python 3",
   "language": "python",
   "name": "python3"
  },
  "language_info": {
   "codemirror_mode": {
    "name": "ipython",
    "version": 3
   },
   "file_extension": ".py",
   "mimetype": "text/x-python",
   "name": "python",
   "nbconvert_exporter": "python",
   "pygments_lexer": "ipython3",
   "version": "3.6.8"
  }
 },
 "nbformat": 4,
 "nbformat_minor": 2
}
